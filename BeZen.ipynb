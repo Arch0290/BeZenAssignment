{
  "nbformat": 4,
  "nbformat_minor": 0,
  "metadata": {
    "colab": {
      "name": "BeZen.ipynb",
      "provenance": [],
      "mount_file_id": "1-KlKF2Vdg9YqRC-bX4yD8V7Liwqx4QD0",
      "authorship_tag": "ABX9TyMLVWTu64P7G1wocpyuPjUc",
      "include_colab_link": true
    },
    "kernelspec": {
      "name": "python3",
      "display_name": "Python 3"
    },
    "language_info": {
      "name": "python"
    }
  },
  "cells": [
    {
      "cell_type": "markdown",
      "metadata": {
        "id": "view-in-github",
        "colab_type": "text"
      },
      "source": [
        "<a href=\"https://colab.research.google.com/github/Arch0290/BeZenAssignment/blob/main/BeZen.ipynb\" target=\"_parent\"><img src=\"https://colab.research.google.com/assets/colab-badge.svg\" alt=\"Open In Colab\"/></a>"
      ]
    },
    {
      "cell_type": "markdown",
      "source": [
        "# Table of Contents\n",
        "\n",
        "1. Introduction\n",
        "  - 1.1 Overview of the Dataset\n",
        "  - 1.2 Question 1\n",
        "  - 1.3 Observation Q1\n",
        "\n",
        "2. Question 2\n",
        "  - 2.1 Evaluating per product_type\n",
        "  - 2.2 Evaluating per category\n",
        "  - 2.3 Evaluating as per level_1\n",
        "  - 2.4 Observation Q2\n",
        "\n",
        "3. Question 3\n",
        "  - 3.1 Observation Q3\n",
        "\n",
        "4. Question 4\n",
        "  - 4.1 Observation Q4"
      ],
      "metadata": {
        "id": "548gEwjht0au"
      }
    },
    {
      "cell_type": "markdown",
      "source": [
        "# 1. Introduction: Be Zen Assignment\n",
        "\n",
        "This notebook attempts to solve the queries given in the assignment.\n",
        "[Link to the Assignment](https://docs.google.com/document/d/1JDN4iHB4Tga30WxMnakMD9PmNrboF8BUOcL9GVrWX1Q/edit)\n",
        "\n",
        "The first section deals with exploring the data"
      ],
      "metadata": {
        "id": "aZ4F5_ytd8Fj"
      }
    },
    {
      "cell_type": "code",
      "execution_count": 2,
      "metadata": {
        "id": "IYiY3dtNwmvn"
      },
      "outputs": [],
      "source": [
        "#importing the libraries\n",
        "\n",
        "import pandas as pd\n",
        "import numpy as np\n",
        "import re\n",
        "import matplotlib as plt"
      ]
    },
    {
      "cell_type": "code",
      "source": [
        "#Reading the csv file\n",
        "\n",
        "df = pd.read_csv(\"/content/drive/MyDrive/Colab Notebooks/Data/2022_02_08-02_30_31_AM.csv\")\n",
        "df.head()"
      ],
      "metadata": {
        "colab": {
          "base_uri": "https://localhost:8080/",
          "height": 494
        },
        "id": "SRWz3ilzxao5",
        "outputId": "ff7f692b-e51a-4239-d4eb-ab85afc51bc2"
      },
      "execution_count": 3,
      "outputs": [
        {
          "output_type": "execute_result",
          "data": {
            "text/plain": [
              "                                   uuid price_string price_string_unf  \\\n",
              "0  638744a4-b0ae-4166-8cb6-5c063c862036          NaN              NaN   \n",
              "1  ab313969-02cc-48b2-9daf-0054efb70b92          NaN              NaN   \n",
              "2  acbd66ff-79f8-467a-91f9-108a45af5626       $19.95              NaN   \n",
              "3  963915d6-b2e3-4098-b242-9410593cf205       $92.00              NaN   \n",
              "4  b5b68f3c-b1e0-40e5-8ee5-e2f7236c1daf        11.50              NaN   \n",
              "\n",
              "                                        product_type  \\\n",
              "0                           TGFwdG9wIENvdmVycy9CYWdz   \n",
              "1                        QmFraW5nIEN1cHMgYW5kIE1hdHM   \n",
              "2  R3VtbWllcyB2aXRhbWlucyBhbmQgbWluZXJhbHMgZm9yIG...   \n",
              "3                                           U2VydW1z   \n",
              "4                    RWF0aW5nIFV0ZW5zaWxzL0N1dGxlcnk   \n",
              "\n",
              "                              level_1                          category  \n",
              "0                     TGFwdG9wIENhc2U                   RWxlY3Ryb25pY3M  \n",
              "1  QmFraW5nIE1hdHMgLyBCYWtpbmcgZGlzaA        a2l0Y2hpbmcgYW5kIGRpbmluZw  \n",
              "2              SW1tdW5pdHkgZ3VtbWllcw                          SGVhbHRo  \n",
              "3                      RmFjZSBTZXJ1bQ  YmVhdXR5IGFuZCBwZXJzb25hbCBjYXJl  \n",
              "4                      Q2hvcHN0aWNrcw        a2l0Y2hpbmcgYW5kIGRpbmluZw  "
            ],
            "text/html": [
              "\n",
              "  <div id=\"df-b4496724-01f6-4aff-a4b2-cbbba9718a22\">\n",
              "    <div class=\"colab-df-container\">\n",
              "      <div>\n",
              "<style scoped>\n",
              "    .dataframe tbody tr th:only-of-type {\n",
              "        vertical-align: middle;\n",
              "    }\n",
              "\n",
              "    .dataframe tbody tr th {\n",
              "        vertical-align: top;\n",
              "    }\n",
              "\n",
              "    .dataframe thead th {\n",
              "        text-align: right;\n",
              "    }\n",
              "</style>\n",
              "<table border=\"1\" class=\"dataframe\">\n",
              "  <thead>\n",
              "    <tr style=\"text-align: right;\">\n",
              "      <th></th>\n",
              "      <th>uuid</th>\n",
              "      <th>price_string</th>\n",
              "      <th>price_string_unf</th>\n",
              "      <th>product_type</th>\n",
              "      <th>level_1</th>\n",
              "      <th>category</th>\n",
              "    </tr>\n",
              "  </thead>\n",
              "  <tbody>\n",
              "    <tr>\n",
              "      <th>0</th>\n",
              "      <td>638744a4-b0ae-4166-8cb6-5c063c862036</td>\n",
              "      <td>NaN</td>\n",
              "      <td>NaN</td>\n",
              "      <td>TGFwdG9wIENvdmVycy9CYWdz</td>\n",
              "      <td>TGFwdG9wIENhc2U</td>\n",
              "      <td>RWxlY3Ryb25pY3M</td>\n",
              "    </tr>\n",
              "    <tr>\n",
              "      <th>1</th>\n",
              "      <td>ab313969-02cc-48b2-9daf-0054efb70b92</td>\n",
              "      <td>NaN</td>\n",
              "      <td>NaN</td>\n",
              "      <td>QmFraW5nIEN1cHMgYW5kIE1hdHM</td>\n",
              "      <td>QmFraW5nIE1hdHMgLyBCYWtpbmcgZGlzaA</td>\n",
              "      <td>a2l0Y2hpbmcgYW5kIGRpbmluZw</td>\n",
              "    </tr>\n",
              "    <tr>\n",
              "      <th>2</th>\n",
              "      <td>acbd66ff-79f8-467a-91f9-108a45af5626</td>\n",
              "      <td>$19.95</td>\n",
              "      <td>NaN</td>\n",
              "      <td>R3VtbWllcyB2aXRhbWlucyBhbmQgbWluZXJhbHMgZm9yIG...</td>\n",
              "      <td>SW1tdW5pdHkgZ3VtbWllcw</td>\n",
              "      <td>SGVhbHRo</td>\n",
              "    </tr>\n",
              "    <tr>\n",
              "      <th>3</th>\n",
              "      <td>963915d6-b2e3-4098-b242-9410593cf205</td>\n",
              "      <td>$92.00</td>\n",
              "      <td>NaN</td>\n",
              "      <td>U2VydW1z</td>\n",
              "      <td>RmFjZSBTZXJ1bQ</td>\n",
              "      <td>YmVhdXR5IGFuZCBwZXJzb25hbCBjYXJl</td>\n",
              "    </tr>\n",
              "    <tr>\n",
              "      <th>4</th>\n",
              "      <td>b5b68f3c-b1e0-40e5-8ee5-e2f7236c1daf</td>\n",
              "      <td>11.50</td>\n",
              "      <td>NaN</td>\n",
              "      <td>RWF0aW5nIFV0ZW5zaWxzL0N1dGxlcnk</td>\n",
              "      <td>Q2hvcHN0aWNrcw</td>\n",
              "      <td>a2l0Y2hpbmcgYW5kIGRpbmluZw</td>\n",
              "    </tr>\n",
              "  </tbody>\n",
              "</table>\n",
              "</div>\n",
              "      <button class=\"colab-df-convert\" onclick=\"convertToInteractive('df-b4496724-01f6-4aff-a4b2-cbbba9718a22')\"\n",
              "              title=\"Convert this dataframe to an interactive table.\"\n",
              "              style=\"display:none;\">\n",
              "        \n",
              "  <svg xmlns=\"http://www.w3.org/2000/svg\" height=\"24px\"viewBox=\"0 0 24 24\"\n",
              "       width=\"24px\">\n",
              "    <path d=\"M0 0h24v24H0V0z\" fill=\"none\"/>\n",
              "    <path d=\"M18.56 5.44l.94 2.06.94-2.06 2.06-.94-2.06-.94-.94-2.06-.94 2.06-2.06.94zm-11 1L8.5 8.5l.94-2.06 2.06-.94-2.06-.94L8.5 2.5l-.94 2.06-2.06.94zm10 10l.94 2.06.94-2.06 2.06-.94-2.06-.94-.94-2.06-.94 2.06-2.06.94z\"/><path d=\"M17.41 7.96l-1.37-1.37c-.4-.4-.92-.59-1.43-.59-.52 0-1.04.2-1.43.59L10.3 9.45l-7.72 7.72c-.78.78-.78 2.05 0 2.83L4 21.41c.39.39.9.59 1.41.59.51 0 1.02-.2 1.41-.59l7.78-7.78 2.81-2.81c.8-.78.8-2.07 0-2.86zM5.41 20L4 18.59l7.72-7.72 1.47 1.35L5.41 20z\"/>\n",
              "  </svg>\n",
              "      </button>\n",
              "      \n",
              "  <style>\n",
              "    .colab-df-container {\n",
              "      display:flex;\n",
              "      flex-wrap:wrap;\n",
              "      gap: 12px;\n",
              "    }\n",
              "\n",
              "    .colab-df-convert {\n",
              "      background-color: #E8F0FE;\n",
              "      border: none;\n",
              "      border-radius: 50%;\n",
              "      cursor: pointer;\n",
              "      display: none;\n",
              "      fill: #1967D2;\n",
              "      height: 32px;\n",
              "      padding: 0 0 0 0;\n",
              "      width: 32px;\n",
              "    }\n",
              "\n",
              "    .colab-df-convert:hover {\n",
              "      background-color: #E2EBFA;\n",
              "      box-shadow: 0px 1px 2px rgba(60, 64, 67, 0.3), 0px 1px 3px 1px rgba(60, 64, 67, 0.15);\n",
              "      fill: #174EA6;\n",
              "    }\n",
              "\n",
              "    [theme=dark] .colab-df-convert {\n",
              "      background-color: #3B4455;\n",
              "      fill: #D2E3FC;\n",
              "    }\n",
              "\n",
              "    [theme=dark] .colab-df-convert:hover {\n",
              "      background-color: #434B5C;\n",
              "      box-shadow: 0px 1px 3px 1px rgba(0, 0, 0, 0.15);\n",
              "      filter: drop-shadow(0px 1px 2px rgba(0, 0, 0, 0.3));\n",
              "      fill: #FFFFFF;\n",
              "    }\n",
              "  </style>\n",
              "\n",
              "      <script>\n",
              "        const buttonEl =\n",
              "          document.querySelector('#df-b4496724-01f6-4aff-a4b2-cbbba9718a22 button.colab-df-convert');\n",
              "        buttonEl.style.display =\n",
              "          google.colab.kernel.accessAllowed ? 'block' : 'none';\n",
              "\n",
              "        async function convertToInteractive(key) {\n",
              "          const element = document.querySelector('#df-b4496724-01f6-4aff-a4b2-cbbba9718a22');\n",
              "          const dataTable =\n",
              "            await google.colab.kernel.invokeFunction('convertToInteractive',\n",
              "                                                     [key], {});\n",
              "          if (!dataTable) return;\n",
              "\n",
              "          const docLinkHtml = 'Like what you see? Visit the ' +\n",
              "            '<a target=\"_blank\" href=https://colab.research.google.com/notebooks/data_table.ipynb>data table notebook</a>'\n",
              "            + ' to learn more about interactive tables.';\n",
              "          element.innerHTML = '';\n",
              "          dataTable['output_type'] = 'display_data';\n",
              "          await google.colab.output.renderOutput(dataTable, element);\n",
              "          const docLink = document.createElement('div');\n",
              "          docLink.innerHTML = docLinkHtml;\n",
              "          element.appendChild(docLink);\n",
              "        }\n",
              "      </script>\n",
              "    </div>\n",
              "  </div>\n",
              "  "
            ]
          },
          "metadata": {},
          "execution_count": 3
        }
      ]
    },
    {
      "cell_type": "code",
      "source": [
        "df.info()\n",
        "print(\"\\nExploring number of null elements in the dataset\\n\", df.isnull().sum())"
      ],
      "metadata": {
        "colab": {
          "base_uri": "https://localhost:8080/"
        },
        "id": "oXcrz2IleiVZ",
        "outputId": "0ecb0b3a-468b-4da2-83ab-3bb38d3da664"
      },
      "execution_count": 4,
      "outputs": [
        {
          "output_type": "stream",
          "name": "stdout",
          "text": [
            "<class 'pandas.core.frame.DataFrame'>\n",
            "RangeIndex: 474697 entries, 0 to 474696\n",
            "Data columns (total 6 columns):\n",
            " #   Column            Non-Null Count   Dtype \n",
            "---  ------            --------------   ----- \n",
            " 0   uuid              474697 non-null  object\n",
            " 1   price_string      190611 non-null  object\n",
            " 2   price_string_unf  10747 non-null   object\n",
            " 3   product_type      474345 non-null  object\n",
            " 4   level_1           472988 non-null  object\n",
            " 5   category          474345 non-null  object\n",
            "dtypes: object(6)\n",
            "memory usage: 21.7+ MB\n",
            "\n",
            "Exploring number of null elements in the dataset\n",
            " uuid                     0\n",
            "price_string        284086\n",
            "price_string_unf    463950\n",
            "product_type           352\n",
            "level_1               1709\n",
            "category               352\n",
            "dtype: int64\n"
          ]
        }
      ]
    },
    {
      "cell_type": "markdown",
      "source": [
        "1.1 **Overview of the Dataset**\n",
        "\n",
        "- The dataset contains 6 columns describing a product\n",
        "- It contains null values that needs to be explored"
      ],
      "metadata": {
        "id": "pdRkqDhHeeCQ"
      }
    },
    {
      "cell_type": "markdown",
      "source": [
        "1.2 **Q1. To find the Products without prices**\n",
        "\n",
        "- The price_string column has 284086 null elements.\n",
        "- The difference between 'price_string' and 'price_string_unf' is not known. We use the 'prices' column to determine the products without prices.\n",
        "- The final dataframe would include the 'uuid' of the products where 'prices' value is NaN (i.e without prices)"
      ],
      "metadata": {
        "id": "FmUcmuDJxoC8"
      }
    },
    {
      "cell_type": "code",
      "source": [
        "#Getting the total null elements for 'price_string' column\n",
        "print(\"Total products without prices = \", df['price_string'].isnull().sum())"
      ],
      "metadata": {
        "colab": {
          "base_uri": "https://localhost:8080/"
        },
        "id": "1r0LSUJLL2gr",
        "outputId": "7c7b919b-958b-41f8-f56d-86283e454739"
      },
      "execution_count": 5,
      "outputs": [
        {
          "output_type": "stream",
          "name": "stdout",
          "text": [
            "Total products without prices =  284086\n"
          ]
        }
      ]
    },
    {
      "cell_type": "code",
      "source": [
        "#Creating a copy of the dataframe to view the entries with null 'price_string' values\n",
        "df1 = df.copy(deep=True)\n",
        "NaN_prices_product = df1[df1['price_string'].isnull()]\n",
        "df2 = NaN_prices_product.iloc[:, 0:2]"
      ],
      "metadata": {
        "id": "A7OFgl9axkFk"
      },
      "execution_count": 6,
      "outputs": []
    },
    {
      "cell_type": "code",
      "source": [
        "print(df2.info())\n",
        "print(\"\\n Number of unique products without prices = \", len(df2.uuid.unique()))\n",
        "df2.head()"
      ],
      "metadata": {
        "colab": {
          "base_uri": "https://localhost:8080/",
          "height": 408
        },
        "id": "Vm9Uu7bkjYYN",
        "outputId": "63291463-1b9c-43bd-ee8f-7495c541350d"
      },
      "execution_count": 7,
      "outputs": [
        {
          "output_type": "stream",
          "name": "stdout",
          "text": [
            "<class 'pandas.core.frame.DataFrame'>\n",
            "Int64Index: 284086 entries, 0 to 474696\n",
            "Data columns (total 2 columns):\n",
            " #   Column        Non-Null Count   Dtype \n",
            "---  ------        --------------   ----- \n",
            " 0   uuid          284086 non-null  object\n",
            " 1   price_string  0 non-null       object\n",
            "dtypes: object(2)\n",
            "memory usage: 6.5+ MB\n",
            "None\n",
            "\n",
            " Number of unique products without prices =  822\n"
          ]
        },
        {
          "output_type": "execute_result",
          "data": {
            "text/plain": [
              "                                    uuid price_string\n",
              "0   638744a4-b0ae-4166-8cb6-5c063c862036          NaN\n",
              "1   ab313969-02cc-48b2-9daf-0054efb70b92          NaN\n",
              "5   389d9f75-cc3f-4bd2-94f7-93e381a3bed5          NaN\n",
              "13  1f2766ec-0a27-43f8-b28b-77a44492ead1          NaN\n",
              "16  7bad39f5-74b9-4611-afb9-46fb135190cd          NaN"
            ],
            "text/html": [
              "\n",
              "  <div id=\"df-1651eccb-e361-46e0-8277-8a739b6c9899\">\n",
              "    <div class=\"colab-df-container\">\n",
              "      <div>\n",
              "<style scoped>\n",
              "    .dataframe tbody tr th:only-of-type {\n",
              "        vertical-align: middle;\n",
              "    }\n",
              "\n",
              "    .dataframe tbody tr th {\n",
              "        vertical-align: top;\n",
              "    }\n",
              "\n",
              "    .dataframe thead th {\n",
              "        text-align: right;\n",
              "    }\n",
              "</style>\n",
              "<table border=\"1\" class=\"dataframe\">\n",
              "  <thead>\n",
              "    <tr style=\"text-align: right;\">\n",
              "      <th></th>\n",
              "      <th>uuid</th>\n",
              "      <th>price_string</th>\n",
              "    </tr>\n",
              "  </thead>\n",
              "  <tbody>\n",
              "    <tr>\n",
              "      <th>0</th>\n",
              "      <td>638744a4-b0ae-4166-8cb6-5c063c862036</td>\n",
              "      <td>NaN</td>\n",
              "    </tr>\n",
              "    <tr>\n",
              "      <th>1</th>\n",
              "      <td>ab313969-02cc-48b2-9daf-0054efb70b92</td>\n",
              "      <td>NaN</td>\n",
              "    </tr>\n",
              "    <tr>\n",
              "      <th>5</th>\n",
              "      <td>389d9f75-cc3f-4bd2-94f7-93e381a3bed5</td>\n",
              "      <td>NaN</td>\n",
              "    </tr>\n",
              "    <tr>\n",
              "      <th>13</th>\n",
              "      <td>1f2766ec-0a27-43f8-b28b-77a44492ead1</td>\n",
              "      <td>NaN</td>\n",
              "    </tr>\n",
              "    <tr>\n",
              "      <th>16</th>\n",
              "      <td>7bad39f5-74b9-4611-afb9-46fb135190cd</td>\n",
              "      <td>NaN</td>\n",
              "    </tr>\n",
              "  </tbody>\n",
              "</table>\n",
              "</div>\n",
              "      <button class=\"colab-df-convert\" onclick=\"convertToInteractive('df-1651eccb-e361-46e0-8277-8a739b6c9899')\"\n",
              "              title=\"Convert this dataframe to an interactive table.\"\n",
              "              style=\"display:none;\">\n",
              "        \n",
              "  <svg xmlns=\"http://www.w3.org/2000/svg\" height=\"24px\"viewBox=\"0 0 24 24\"\n",
              "       width=\"24px\">\n",
              "    <path d=\"M0 0h24v24H0V0z\" fill=\"none\"/>\n",
              "    <path d=\"M18.56 5.44l.94 2.06.94-2.06 2.06-.94-2.06-.94-.94-2.06-.94 2.06-2.06.94zm-11 1L8.5 8.5l.94-2.06 2.06-.94-2.06-.94L8.5 2.5l-.94 2.06-2.06.94zm10 10l.94 2.06.94-2.06 2.06-.94-2.06-.94-.94-2.06-.94 2.06-2.06.94z\"/><path d=\"M17.41 7.96l-1.37-1.37c-.4-.4-.92-.59-1.43-.59-.52 0-1.04.2-1.43.59L10.3 9.45l-7.72 7.72c-.78.78-.78 2.05 0 2.83L4 21.41c.39.39.9.59 1.41.59.51 0 1.02-.2 1.41-.59l7.78-7.78 2.81-2.81c.8-.78.8-2.07 0-2.86zM5.41 20L4 18.59l7.72-7.72 1.47 1.35L5.41 20z\"/>\n",
              "  </svg>\n",
              "      </button>\n",
              "      \n",
              "  <style>\n",
              "    .colab-df-container {\n",
              "      display:flex;\n",
              "      flex-wrap:wrap;\n",
              "      gap: 12px;\n",
              "    }\n",
              "\n",
              "    .colab-df-convert {\n",
              "      background-color: #E8F0FE;\n",
              "      border: none;\n",
              "      border-radius: 50%;\n",
              "      cursor: pointer;\n",
              "      display: none;\n",
              "      fill: #1967D2;\n",
              "      height: 32px;\n",
              "      padding: 0 0 0 0;\n",
              "      width: 32px;\n",
              "    }\n",
              "\n",
              "    .colab-df-convert:hover {\n",
              "      background-color: #E2EBFA;\n",
              "      box-shadow: 0px 1px 2px rgba(60, 64, 67, 0.3), 0px 1px 3px 1px rgba(60, 64, 67, 0.15);\n",
              "      fill: #174EA6;\n",
              "    }\n",
              "\n",
              "    [theme=dark] .colab-df-convert {\n",
              "      background-color: #3B4455;\n",
              "      fill: #D2E3FC;\n",
              "    }\n",
              "\n",
              "    [theme=dark] .colab-df-convert:hover {\n",
              "      background-color: #434B5C;\n",
              "      box-shadow: 0px 1px 3px 1px rgba(0, 0, 0, 0.15);\n",
              "      filter: drop-shadow(0px 1px 2px rgba(0, 0, 0, 0.3));\n",
              "      fill: #FFFFFF;\n",
              "    }\n",
              "  </style>\n",
              "\n",
              "      <script>\n",
              "        const buttonEl =\n",
              "          document.querySelector('#df-1651eccb-e361-46e0-8277-8a739b6c9899 button.colab-df-convert');\n",
              "        buttonEl.style.display =\n",
              "          google.colab.kernel.accessAllowed ? 'block' : 'none';\n",
              "\n",
              "        async function convertToInteractive(key) {\n",
              "          const element = document.querySelector('#df-1651eccb-e361-46e0-8277-8a739b6c9899');\n",
              "          const dataTable =\n",
              "            await google.colab.kernel.invokeFunction('convertToInteractive',\n",
              "                                                     [key], {});\n",
              "          if (!dataTable) return;\n",
              "\n",
              "          const docLinkHtml = 'Like what you see? Visit the ' +\n",
              "            '<a target=\"_blank\" href=https://colab.research.google.com/notebooks/data_table.ipynb>data table notebook</a>'\n",
              "            + ' to learn more about interactive tables.';\n",
              "          element.innerHTML = '';\n",
              "          dataTable['output_type'] = 'display_data';\n",
              "          await google.colab.output.renderOutput(dataTable, element);\n",
              "          const docLink = document.createElement('div');\n",
              "          docLink.innerHTML = docLinkHtml;\n",
              "          element.appendChild(docLink);\n",
              "        }\n",
              "      </script>\n",
              "    </div>\n",
              "  </div>\n",
              "  "
            ]
          },
          "metadata": {},
          "execution_count": 7
        }
      ]
    },
    {
      "cell_type": "markdown",
      "source": [
        "1.3 **Observation Q1**\n",
        "- The dataframe df2 includes the 'uuid' of all the products without prices\n",
        "- The total entries without prices is 284,086\n",
        "- There are 822 different products without prices listed in the given data"
      ],
      "metadata": {
        "id": "q_bUl9RR2_AM"
      }
    },
    {
      "cell_type": "markdown",
      "source": [
        "2. **Q2. Count of products without prices and with prices in each Product Type, Category, Level 1**\n",
        "\n",
        "- NaN_prices_product dataframe includes data where 'price_string' are NaN\n",
        "- df_notnull dataframe includes data where 'price_string' data is available\n"
      ],
      "metadata": {
        "id": "rTuQYqW32A2y"
      }
    },
    {
      "cell_type": "code",
      "source": [
        "df.groupby(['price_string','product_type','level_1'], dropna=False)['category'].value_counts()"
      ],
      "metadata": {
        "colab": {
          "base_uri": "https://localhost:8080/"
        },
        "id": "WukeCdcZjwDV",
        "outputId": "6efe9c0e-ed12-4fbd-a96f-87d446a2aa1e"
      },
      "execution_count": 35,
      "outputs": [
        {
          "output_type": "execute_result",
          "data": {
            "text/plain": [
              "price_string  product_type          level_1                  category                        \n",
              "$0.00         Q2hlZWsgbWFrZSB1cA    RmFjZSBIaWdobGlnaHRlcg   YmVhdXR5IGFuZCBwZXJzb25hbCBjYXJl     322\n",
              "                                    UGlnbWVudGVkIEJsdXNo     YmVhdXR5IGFuZCBwZXJzb25hbCBjYXJl     356\n",
              "              QmVkc2hlZXRz          UGVyY2FsZSBiZWRzaGVldHM  SG91c2Vob2xkIGFuZCBDbGVhbmluZw       369\n",
              "                                    c2F0ZWVuIGJlZHNoZWV0cw   SG91c2Vob2xkIGFuZCBDbGVhbmluZw       340\n",
              "              RG9nIHRveXMgcGV0      RG9nIHRveXM              cGV0IHN1cHBsaWVz                     339\n",
              "                                                                                                 ... \n",
              "NaN           d29tZW5zIFdhbGxldA    d29tZW5zIFdhbGxldA       Q2xvdGhpbmcgYW5kIEFjY2Vzc29yaWVz     366\n",
              "              d29tZW5zIHN3ZWF0ZXJz  Q2FyZGlnYW4              Q2xvdGhpbmcgYW5kIEFjY2Vzc29yaWVz    1068\n",
              "                                    SG9vZGll                 Q2xvdGhpbmcgYW5kIEFjY2Vzc29yaWVz     699\n",
              "                                    U3dlYXRlcg               Q2xvdGhpbmcgYW5kIEFjY2Vzc29yaWVz     706\n",
              "                                    U3dlYXRzaGlydA           Q2xvdGhpbmcgYW5kIEFjY2Vzc29yaWVz     634\n",
              "Name: category, Length: 1044, dtype: int64"
            ]
          },
          "metadata": {},
          "execution_count": 35
        }
      ]
    },
    {
      "cell_type": "code",
      "source": [
        "#dropping rows where 'price_string' is NaN\n",
        "\n",
        "df_notnull = df1.dropna(subset=['price_string'])\n",
        "df_notnull.head()"
      ],
      "metadata": {
        "colab": {
          "base_uri": "https://localhost:8080/",
          "height": 511
        },
        "id": "vXrFcsHMz6gB",
        "outputId": "731498dd-f821-4483-f02c-3ca153ff9383"
      },
      "execution_count": null,
      "outputs": [
        {
          "output_type": "execute_result",
          "data": {
            "text/plain": [
              "                                   uuid price_string price_string_unf  \\\n",
              "2  acbd66ff-79f8-467a-91f9-108a45af5626       $19.95              NaN   \n",
              "3  963915d6-b2e3-4098-b242-9410593cf205       $92.00              NaN   \n",
              "4  b5b68f3c-b1e0-40e5-8ee5-e2f7236c1daf        11.50              NaN   \n",
              "6  9599f1a9-d406-43eb-89f5-9b1c0af1ac9a       $24.99              NaN   \n",
              "7  35799087-f6f4-4ca2-abfe-cbb5c27d2f1a      $148.00              NaN   \n",
              "\n",
              "                                        product_type  \\\n",
              "2  R3VtbWllcyB2aXRhbWlucyBhbmQgbWluZXJhbHMgZm9yIG...   \n",
              "3                                           U2VydW1z   \n",
              "4                    RWF0aW5nIFV0ZW5zaWxzL0N1dGxlcnk   \n",
              "6                               TW9wcyBhbmQgYnJvb21z   \n",
              "7                                   V29tZW5zIFBhbnRz   \n",
              "\n",
              "                                level_1                          category  \n",
              "2                SW1tdW5pdHkgZ3VtbWllcw                          SGVhbHRo  \n",
              "3                        RmFjZSBTZXJ1bQ  YmVhdXR5IGFuZCBwZXJzb25hbCBjYXJl  \n",
              "4                        Q2hvcHN0aWNrcw        a2l0Y2hpbmcgYW5kIGRpbmluZw  \n",
              "6                                  TW9w    SG91c2Vob2xkIGFuZCBDbGVhbmluZw  \n",
              "7  V29tZW5zIFJlZ3VsYXIvQ2FzdWFsIFBhbnRz  Q2xvdGhpbmcgYW5kIEFjY2Vzc29yaWVz  "
            ],
            "text/html": [
              "\n",
              "  <div id=\"df-b4feb036-1ef3-4167-be51-93d5f38ceb1b\">\n",
              "    <div class=\"colab-df-container\">\n",
              "      <div>\n",
              "<style scoped>\n",
              "    .dataframe tbody tr th:only-of-type {\n",
              "        vertical-align: middle;\n",
              "    }\n",
              "\n",
              "    .dataframe tbody tr th {\n",
              "        vertical-align: top;\n",
              "    }\n",
              "\n",
              "    .dataframe thead th {\n",
              "        text-align: right;\n",
              "    }\n",
              "</style>\n",
              "<table border=\"1\" class=\"dataframe\">\n",
              "  <thead>\n",
              "    <tr style=\"text-align: right;\">\n",
              "      <th></th>\n",
              "      <th>uuid</th>\n",
              "      <th>price_string</th>\n",
              "      <th>price_string_unf</th>\n",
              "      <th>product_type</th>\n",
              "      <th>level_1</th>\n",
              "      <th>category</th>\n",
              "    </tr>\n",
              "  </thead>\n",
              "  <tbody>\n",
              "    <tr>\n",
              "      <th>2</th>\n",
              "      <td>acbd66ff-79f8-467a-91f9-108a45af5626</td>\n",
              "      <td>$19.95</td>\n",
              "      <td>NaN</td>\n",
              "      <td>R3VtbWllcyB2aXRhbWlucyBhbmQgbWluZXJhbHMgZm9yIG...</td>\n",
              "      <td>SW1tdW5pdHkgZ3VtbWllcw</td>\n",
              "      <td>SGVhbHRo</td>\n",
              "    </tr>\n",
              "    <tr>\n",
              "      <th>3</th>\n",
              "      <td>963915d6-b2e3-4098-b242-9410593cf205</td>\n",
              "      <td>$92.00</td>\n",
              "      <td>NaN</td>\n",
              "      <td>U2VydW1z</td>\n",
              "      <td>RmFjZSBTZXJ1bQ</td>\n",
              "      <td>YmVhdXR5IGFuZCBwZXJzb25hbCBjYXJl</td>\n",
              "    </tr>\n",
              "    <tr>\n",
              "      <th>4</th>\n",
              "      <td>b5b68f3c-b1e0-40e5-8ee5-e2f7236c1daf</td>\n",
              "      <td>11.50</td>\n",
              "      <td>NaN</td>\n",
              "      <td>RWF0aW5nIFV0ZW5zaWxzL0N1dGxlcnk</td>\n",
              "      <td>Q2hvcHN0aWNrcw</td>\n",
              "      <td>a2l0Y2hpbmcgYW5kIGRpbmluZw</td>\n",
              "    </tr>\n",
              "    <tr>\n",
              "      <th>6</th>\n",
              "      <td>9599f1a9-d406-43eb-89f5-9b1c0af1ac9a</td>\n",
              "      <td>$24.99</td>\n",
              "      <td>NaN</td>\n",
              "      <td>TW9wcyBhbmQgYnJvb21z</td>\n",
              "      <td>TW9w</td>\n",
              "      <td>SG91c2Vob2xkIGFuZCBDbGVhbmluZw</td>\n",
              "    </tr>\n",
              "    <tr>\n",
              "      <th>7</th>\n",
              "      <td>35799087-f6f4-4ca2-abfe-cbb5c27d2f1a</td>\n",
              "      <td>$148.00</td>\n",
              "      <td>NaN</td>\n",
              "      <td>V29tZW5zIFBhbnRz</td>\n",
              "      <td>V29tZW5zIFJlZ3VsYXIvQ2FzdWFsIFBhbnRz</td>\n",
              "      <td>Q2xvdGhpbmcgYW5kIEFjY2Vzc29yaWVz</td>\n",
              "    </tr>\n",
              "  </tbody>\n",
              "</table>\n",
              "</div>\n",
              "      <button class=\"colab-df-convert\" onclick=\"convertToInteractive('df-b4feb036-1ef3-4167-be51-93d5f38ceb1b')\"\n",
              "              title=\"Convert this dataframe to an interactive table.\"\n",
              "              style=\"display:none;\">\n",
              "        \n",
              "  <svg xmlns=\"http://www.w3.org/2000/svg\" height=\"24px\"viewBox=\"0 0 24 24\"\n",
              "       width=\"24px\">\n",
              "    <path d=\"M0 0h24v24H0V0z\" fill=\"none\"/>\n",
              "    <path d=\"M18.56 5.44l.94 2.06.94-2.06 2.06-.94-2.06-.94-.94-2.06-.94 2.06-2.06.94zm-11 1L8.5 8.5l.94-2.06 2.06-.94-2.06-.94L8.5 2.5l-.94 2.06-2.06.94zm10 10l.94 2.06.94-2.06 2.06-.94-2.06-.94-.94-2.06-.94 2.06-2.06.94z\"/><path d=\"M17.41 7.96l-1.37-1.37c-.4-.4-.92-.59-1.43-.59-.52 0-1.04.2-1.43.59L10.3 9.45l-7.72 7.72c-.78.78-.78 2.05 0 2.83L4 21.41c.39.39.9.59 1.41.59.51 0 1.02-.2 1.41-.59l7.78-7.78 2.81-2.81c.8-.78.8-2.07 0-2.86zM5.41 20L4 18.59l7.72-7.72 1.47 1.35L5.41 20z\"/>\n",
              "  </svg>\n",
              "      </button>\n",
              "      \n",
              "  <style>\n",
              "    .colab-df-container {\n",
              "      display:flex;\n",
              "      flex-wrap:wrap;\n",
              "      gap: 12px;\n",
              "    }\n",
              "\n",
              "    .colab-df-convert {\n",
              "      background-color: #E8F0FE;\n",
              "      border: none;\n",
              "      border-radius: 50%;\n",
              "      cursor: pointer;\n",
              "      display: none;\n",
              "      fill: #1967D2;\n",
              "      height: 32px;\n",
              "      padding: 0 0 0 0;\n",
              "      width: 32px;\n",
              "    }\n",
              "\n",
              "    .colab-df-convert:hover {\n",
              "      background-color: #E2EBFA;\n",
              "      box-shadow: 0px 1px 2px rgba(60, 64, 67, 0.3), 0px 1px 3px 1px rgba(60, 64, 67, 0.15);\n",
              "      fill: #174EA6;\n",
              "    }\n",
              "\n",
              "    [theme=dark] .colab-df-convert {\n",
              "      background-color: #3B4455;\n",
              "      fill: #D2E3FC;\n",
              "    }\n",
              "\n",
              "    [theme=dark] .colab-df-convert:hover {\n",
              "      background-color: #434B5C;\n",
              "      box-shadow: 0px 1px 3px 1px rgba(0, 0, 0, 0.15);\n",
              "      filter: drop-shadow(0px 1px 2px rgba(0, 0, 0, 0.3));\n",
              "      fill: #FFFFFF;\n",
              "    }\n",
              "  </style>\n",
              "\n",
              "      <script>\n",
              "        const buttonEl =\n",
              "          document.querySelector('#df-b4feb036-1ef3-4167-be51-93d5f38ceb1b button.colab-df-convert');\n",
              "        buttonEl.style.display =\n",
              "          google.colab.kernel.accessAllowed ? 'block' : 'none';\n",
              "\n",
              "        async function convertToInteractive(key) {\n",
              "          const element = document.querySelector('#df-b4feb036-1ef3-4167-be51-93d5f38ceb1b');\n",
              "          const dataTable =\n",
              "            await google.colab.kernel.invokeFunction('convertToInteractive',\n",
              "                                                     [key], {});\n",
              "          if (!dataTable) return;\n",
              "\n",
              "          const docLinkHtml = 'Like what you see? Visit the ' +\n",
              "            '<a target=\"_blank\" href=https://colab.research.google.com/notebooks/data_table.ipynb>data table notebook</a>'\n",
              "            + ' to learn more about interactive tables.';\n",
              "          element.innerHTML = '';\n",
              "          dataTable['output_type'] = 'display_data';\n",
              "          await google.colab.output.renderOutput(dataTable, element);\n",
              "          const docLink = document.createElement('div');\n",
              "          docLink.innerHTML = docLinkHtml;\n",
              "          element.appendChild(docLink);\n",
              "        }\n",
              "      </script>\n",
              "    </div>\n",
              "  </div>\n",
              "  "
            ]
          },
          "metadata": {},
          "execution_count": 44
        }
      ]
    },
    {
      "cell_type": "markdown",
      "source": [
        "2.1 **Evaluating per product_type**"
      ],
      "metadata": {
        "id": "3Z8RYOvx7GWQ"
      }
    },
    {
      "cell_type": "code",
      "source": [
        "#Count of Products with prices in each Product Type\n",
        "\n",
        "df_notnull.groupby('product_type')['price_string'].value_counts()"
      ],
      "metadata": {
        "colab": {
          "base_uri": "https://localhost:8080/"
        },
        "id": "dXxLBCLkKy0x",
        "outputId": "18f46b95-8142-4364-837e-a6a946982d64"
      },
      "execution_count": null,
      "outputs": [
        {
          "output_type": "execute_result",
          "data": {
            "text/plain": [
              "product_type            price_string\n",
              "Q29mZmVlIEJlYW5z        $6.75           1042\n",
              "Q29uZGl0aW9uZXIgSGFpcg  $38.00           354\n",
              "Q29va2luZyBPaWw         $16.99           360\n",
              "                        $13.99           350\n",
              "                        $14.49           349\n",
              "                                        ... \n",
              "d29tZW5zIFdhbGxldA      $195             359\n",
              "                        $100             342\n",
              "d29tZW5zIHN3ZWF0ZXJz    $59              336\n",
              "                        $159             321\n",
              "                        $139             305\n",
              "Name: price_string, Length: 482, dtype: int64"
            ]
          },
          "metadata": {},
          "execution_count": 63
        }
      ]
    },
    {
      "cell_type": "code",
      "source": [
        "#Count of Products without prices in each Product Type\n",
        "\n",
        "NaN_prices_product.product_type.value_counts()"
      ],
      "metadata": {
        "colab": {
          "base_uri": "https://localhost:8080/"
        },
        "id": "ofJE1KO65v-E",
        "outputId": "192a1ada-8c17-4390-88e9-aa8c96d5ea0a"
      },
      "execution_count": null,
      "outputs": [
        {
          "output_type": "execute_result",
          "data": {
            "text/plain": [
              "V29tZW5zIHN3aW13ZWFy                      4773\n",
              "V29tZW5zIHdvcmt3ZWFyLyBvZmZpY2Ugd2Vhcg    4621\n",
              "VG9kZGxlcnMvbmV3Ym9ybiBiYWJpZXM           4321\n",
              "VmVoaWNsZSBUb3lz                          4111\n",
              "UGx1cyBzaXplIHdlYXI                       4086\n",
              "                                          ... \n",
              "RG91Z2ggSmFyLSBQYWNrIG9mIDM                319\n",
              "QmF0aCBTYWx0cw                             318\n",
              "UmVmcmlnZXJhdG9yIFdhdGVyIEZpbHRlcg         311\n",
              "TGFwdG9wcw                                 308\n",
              "SG9uZXk                                    300\n",
              "Name: product_type, Length: 278, dtype: int64"
            ]
          },
          "metadata": {},
          "execution_count": 46
        }
      ]
    },
    {
      "cell_type": "markdown",
      "source": [
        "2.2 **Evaluating per category**"
      ],
      "metadata": {
        "id": "eKuqk0T37T1W"
      }
    },
    {
      "cell_type": "code",
      "source": [
        "#Count of Products with prices in each Category\n",
        "\n",
        "df_notnull.groupby('category')['price_string'].value_counts()"
      ],
      "metadata": {
        "colab": {
          "base_uri": "https://localhost:8080/"
        },
        "id": "JOH_mZYJyoIG",
        "outputId": "a713ac66-e88d-4fba-ae4c-9777118cb744"
      },
      "execution_count": null,
      "outputs": [
        {
          "output_type": "execute_result",
          "data": {
            "text/plain": [
              "category                          price_string\n",
              "Q2xvdGhpbmcgYW5kIEFjY2Vzc29yaWVz  $89             3893\n",
              "                                  $160            2476\n",
              "                                  $199            2086\n",
              "                                  $79             2080\n",
              "                                  $75.00          1959\n",
              "                                                  ... \n",
              "cGV0IHN1cHBsaWVz                  $10.00           361\n",
              "                                  $16.99           343\n",
              "                                  $30.00           339\n",
              "                                  $28.00           337\n",
              "                                  $49.00           324\n",
              "Name: price_string, Length: 336, dtype: int64"
            ]
          },
          "metadata": {},
          "execution_count": 47
        }
      ]
    },
    {
      "cell_type": "code",
      "source": [
        "#Count of Products without prices in each Category\n",
        "\n",
        "count_category_noPrice = NaN_prices_product.category.value_counts()\n",
        "count_category_noPrice"
      ],
      "metadata": {
        "colab": {
          "base_uri": "https://localhost:8080/"
        },
        "id": "loDUlLsy7h95",
        "outputId": "b718190a-27f2-452e-aa55-cd92b748b153"
      },
      "execution_count": null,
      "outputs": [
        {
          "output_type": "execute_result",
          "data": {
            "text/plain": [
              "Q2xvdGhpbmcgYW5kIEFjY2Vzc29yaWVz       70754\n",
              "Z3JvY2VyaWVz                           39083\n",
              "SG91c2Vob2xkIGFuZCBDbGVhbmluZw         30135\n",
              "YmVhdXR5IGFuZCBwZXJzb25hbCBjYXJl       24835\n",
              "SGVhbHRo                               24153\n",
              "VG95cyBhbmQgR2FtZXM                    20736\n",
              "cGV0IHN1cHBsaWVz                       20134\n",
              "QmFieWNhcmU                            19584\n",
              "VG9vbHMgYW5kIGhvbWUgaW1wcm92ZW1lbnQ    11004\n",
              "a2l0Y2hpbmcgYW5kIGRpbmluZw              8636\n",
              "RWxlY3Ryb25pY3M                         7309\n",
              "QXJ0IHN1cHBsaWVz                        4625\n",
              "b2ZmaWNlIHByb2R1Y3Rz                    2746\n",
              "Name: category, dtype: int64"
            ]
          },
          "metadata": {},
          "execution_count": 61
        }
      ]
    },
    {
      "cell_type": "code",
      "source": [
        "#Plotting Count of Products without Prices in each category\n",
        "\n",
        "count_category_noPrice.plot(kind='bar', title='Count of Products without Prices in each category', grid=True)"
      ],
      "metadata": {
        "colab": {
          "base_uri": "https://localhost:8080/",
          "height": 529
        },
        "id": "S1NS7T9ab8E-",
        "outputId": "a8fd1f39-d58e-4cb1-a586-8ae78f41b0dc"
      },
      "execution_count": null,
      "outputs": [
        {
          "output_type": "execute_result",
          "data": {
            "text/plain": [
              "<matplotlib.axes._subplots.AxesSubplot at 0x7f88e442fed0>"
            ]
          },
          "metadata": {},
          "execution_count": 67
        },
        {
          "output_type": "display_data",
          "data": {
            "text/plain": [
              "<Figure size 432x288 with 1 Axes>"
            ],
            "image/png": "[encoded data removed]"
          },
          "metadata": {
            "needs_background": "light"
          }
        }
      ]
    },
    {
      "cell_type": "markdown",
      "source": [
        "2.3 **Evaluating as per level_1**"
      ],
      "metadata": {
        "id": "yiZTjDqT77CI"
      }
    },
    {
      "cell_type": "code",
      "source": [
        "#Count of Products with prices as per level_1\n",
        "\n",
        "df_notnull.groupby('level_1')['price_string'].value_counts()"
      ],
      "metadata": {
        "colab": {
          "base_uri": "https://localhost:8080/"
        },
        "id": "xh2M_uLn74Iu",
        "outputId": "b67797c5-15fe-48d8-d508-eb391d0f0436"
      },
      "execution_count": null,
      "outputs": [
        {
          "output_type": "execute_result",
          "data": {
            "text/plain": [
              "level_1             price_string\n",
              "MTAgQ3Vw            $34.99          369\n",
              "MjAgQ3Vw            $34.99          359\n",
              "MjAgUGludHM         $189.97         343\n",
              "MzAgQ3Vw            $44.99          330\n",
              "MzAtIDM1IFBpbnRz    $209.97         353\n",
              "                                   ... \n",
              "eW9nYSBCbG9ja3M     $18.00          328\n",
              "eW9nYSBib2xzdGVycw  $80.00          345\n",
              "eW9nYSBzdHJhcHM     $24.00          360\n",
              "                    $18.00          359\n",
              "                    $12.95          352\n",
              "Name: price_string, Length: 537, dtype: int64"
            ]
          },
          "metadata": {},
          "execution_count": 13
        }
      ]
    },
    {
      "cell_type": "code",
      "source": [
        "#Count of Products without prices as per level_1\n",
        "\n",
        "count_level_1_noPrice = NaN_prices_product.level_1.value_counts()\n",
        "count_level_1_noPrice"
      ],
      "metadata": {
        "colab": {
          "base_uri": "https://localhost:8080/"
        },
        "id": "_yVV9sI3737A",
        "outputId": "a09255e1-6e82-4daf-c1c4-0fd76c781494"
      },
      "execution_count": null,
      "outputs": [
        {
          "output_type": "execute_result",
          "data": {
            "text/plain": [
              "Rm9ybWFsIFN1aXRz       2175\n",
              "U3dlYXRzaGlydA         1939\n",
              "U29ja3M                1650\n",
              "Rm9ybWFsIFBhbnRz       1645\n",
              "U3dlYXRlcg             1421\n",
              "                       ... \n",
              "ZGlzaCBicnVzaA          309\n",
              "TGFwdG9wcw              308\n",
              "RXh0ZXJpb3IgUGFpbnQ     301\n",
              "VmVnYW4gSG9uZXk         300\n",
              "TWVucyBzdXJmIHN1aXQ     284\n",
              "Name: level_1, Length: 476, dtype: int64"
            ]
          },
          "metadata": {},
          "execution_count": 51
        }
      ]
    },
    {
      "cell_type": "markdown",
      "source": [
        "**The above solutions for products with prices can be viewed and understood better by unstacking the groupby objects.**\n",
        "\n",
        "- Let's take the example of finding the count of products with prices as per the category\n",
        "\n"
      ],
      "metadata": {
        "id": "5OdHofpo8iUb"
      }
    },
    {
      "cell_type": "code",
      "source": [
        "#Unstacking and counting the grouped elements\n",
        "#Count of Products with prices in each Category\n",
        "df_notnull.groupby('category')['price_string'].value_counts().unstack().fillna(0)"
      ],
      "metadata": {
        "colab": {
          "base_uri": "https://localhost:8080/",
          "height": 564
        },
        "id": "u9lfoPbtP0uX",
        "outputId": "77451c17-5df4-4f01-81df-da6a8a491d62"
      },
      "execution_count": null,
      "outputs": [
        {
          "output_type": "execute_result",
          "data": {
            "text/plain": [
              "price_string                          $0.00  $10.00  $10.29  $10.99   $100  \\\n",
              "category                                                                     \n",
              "Q2xvdGhpbmcgYW5kIEFjY2Vzc29yaWVz        0.0     0.0     0.0     0.0  342.0   \n",
              "QXJ0IHN1cHBsaWVz                        0.0   331.0     0.0     0.0    0.0   \n",
              "QmFieWNhcmU                             0.0     0.0     0.0     0.0    0.0   \n",
              "RWxlY3Ryb25pY3M                         0.0     0.0     0.0     0.0    0.0   \n",
              "SG91c2Vob2xkIGFuZCBDbGVhbmluZw       3175.0     0.0     0.0   335.0    0.0   \n",
              "SGVhbHRo                                0.0     0.0     0.0     0.0    0.0   \n",
              "VG95cyBhbmQgR2FtZXM                     0.0     0.0     0.0     0.0    0.0   \n",
              "VG9vbHMgYW5kIGhvbWUgaW1wcm92ZW1lbnQ     0.0     0.0     0.0     0.0    0.0   \n",
              "YmVhdXR5IGFuZCBwZXJzb25hbCBjYXJl     4196.0   330.0     0.0     0.0    0.0   \n",
              "Z3JvY2VyaWVz                            0.0     0.0   327.0   326.0    0.0   \n",
              "a2l0Y2hpbmcgYW5kIGRpbmluZw              0.0     0.0     0.0   630.0    0.0   \n",
              "b2ZmaWNlIHByb2R1Y3Rz                    0.0   341.0     0.0     0.0    0.0   \n",
              "cGV0IHN1cHBsaWVz                     1029.0   361.0     0.0     0.0    0.0   \n",
              "\n",
              "price_string                         $100.00  $1099  $11.00  $11.30  $11.75  \\\n",
              "category                                                                      \n",
              "Q2xvdGhpbmcgYW5kIEFjY2Vzc29yaWVz       693.0    0.0     0.0     0.0     0.0   \n",
              "QXJ0IHN1cHBsaWVz                         0.0    0.0     0.0     0.0     0.0   \n",
              "QmFieWNhcmU                              0.0    0.0     0.0     0.0     0.0   \n",
              "RWxlY3Ryb25pY3M                          0.0    0.0     0.0     0.0     0.0   \n",
              "SG91c2Vob2xkIGFuZCBDbGVhbmluZw           0.0  348.0   366.0     0.0     0.0   \n",
              "SGVhbHRo                                 0.0    0.0     0.0     0.0     0.0   \n",
              "VG95cyBhbmQgR2FtZXM                      0.0    0.0     0.0     0.0     0.0   \n",
              "VG9vbHMgYW5kIGhvbWUgaW1wcm92ZW1lbnQ      0.0    0.0     0.0     0.0     0.0   \n",
              "YmVhdXR5IGFuZCBwZXJzb25hbCBjYXJl         0.0    0.0     0.0     0.0     0.0   \n",
              "Z3JvY2VyaWVz                             0.0    0.0     0.0     0.0     0.0   \n",
              "a2l0Y2hpbmcgYW5kIGRpbmluZw               0.0    0.0     0.0   354.0     0.0   \n",
              "b2ZmaWNlIHByb2R1Y3Rz                     0.0    0.0     0.0     0.0   359.0   \n",
              "cGV0IHN1cHBsaWVz                         0.0    0.0     0.0     0.0     0.0   \n",
              "\n",
              "price_string                         ...   14.95  17.00  21.00  22.00  32.99  \\\n",
              "category                             ...                                       \n",
              "Q2xvdGhpbmcgYW5kIEFjY2Vzc29yaWVz     ...     0.0    0.0    0.0    0.0    0.0   \n",
              "QXJ0IHN1cHBsaWVz                     ...     0.0    0.0    0.0    0.0    0.0   \n",
              "QmFieWNhcmU                          ...     0.0    0.0    0.0    0.0    0.0   \n",
              "RWxlY3Ryb25pY3M                      ...     0.0    0.0    0.0    0.0    0.0   \n",
              "SG91c2Vob2xkIGFuZCBDbGVhbmluZw       ...     0.0    0.0    0.0    0.0    0.0   \n",
              "SGVhbHRo                             ...     0.0    0.0    0.0    0.0    0.0   \n",
              "VG95cyBhbmQgR2FtZXM                  ...  1418.0    0.0    0.0    0.0    0.0   \n",
              "VG9vbHMgYW5kIGhvbWUgaW1wcm92ZW1lbnQ  ...     0.0    0.0    0.0    0.0    0.0   \n",
              "YmVhdXR5IGFuZCBwZXJzb25hbCBjYXJl     ...     0.0    0.0    0.0    0.0    0.0   \n",
              "Z3JvY2VyaWVz                         ...     0.0    0.0    0.0    0.0    0.0   \n",
              "a2l0Y2hpbmcgYW5kIGRpbmluZw           ...     0.0  642.0  361.0  727.0  361.0   \n",
              "b2ZmaWNlIHByb2R1Y3Rz                 ...     0.0    0.0    0.0    0.0    0.0   \n",
              "cGV0IHN1cHBsaWVz                     ...     0.0    0.0    0.0    0.0    0.0   \n",
              "\n",
              "price_string                          5.75  52.00   6.60  67.00   7.00  \n",
              "category                                                                \n",
              "Q2xvdGhpbmcgYW5kIEFjY2Vzc29yaWVz       0.0  334.0    0.0    0.0    0.0  \n",
              "QXJ0IHN1cHBsaWVz                       0.0    0.0    0.0    0.0    0.0  \n",
              "QmFieWNhcmU                            0.0    0.0    0.0    0.0    0.0  \n",
              "RWxlY3Ryb25pY3M                        0.0    0.0    0.0    0.0    0.0  \n",
              "SG91c2Vob2xkIGFuZCBDbGVhbmluZw         0.0    0.0    0.0    0.0    0.0  \n",
              "SGVhbHRo                               0.0    0.0    0.0    0.0    0.0  \n",
              "VG95cyBhbmQgR2FtZXM                    0.0    0.0    0.0    0.0    0.0  \n",
              "VG9vbHMgYW5kIGhvbWUgaW1wcm92ZW1lbnQ    0.0    0.0    0.0    0.0    0.0  \n",
              "YmVhdXR5IGFuZCBwZXJzb25hbCBjYXJl       0.0    0.0    0.0    0.0    0.0  \n",
              "Z3JvY2VyaWVz                           0.0    0.0    0.0    0.0    0.0  \n",
              "a2l0Y2hpbmcgYW5kIGRpbmluZw           322.0    0.0  330.0  310.0  692.0  \n",
              "b2ZmaWNlIHByb2R1Y3Rz                   0.0    0.0    0.0    0.0    0.0  \n",
              "cGV0IHN1cHBsaWVz                       0.0    0.0    0.0    0.0    0.0  \n",
              "\n",
              "[13 rows x 248 columns]"
            ],
            "text/html": [
              "\n",
              "  <div id=\"df-ad9a6ea5-7ebe-4b07-a628-ce732d32b872\">\n",
              "    <div class=\"colab-df-container\">\n",
              "      <div>\n",
              "<style scoped>\n",
              "    .dataframe tbody tr th:only-of-type {\n",
              "        vertical-align: middle;\n",
              "    }\n",
              "\n",
              "    .dataframe tbody tr th {\n",
              "        vertical-align: top;\n",
              "    }\n",
              "\n",
              "    .dataframe thead th {\n",
              "        text-align: right;\n",
              "    }\n",
              "</style>\n",
              "<table border=\"1\" class=\"dataframe\">\n",
              "  <thead>\n",
              "    <tr style=\"text-align: right;\">\n",
              "      <th>price_string</th>\n",
              "      <th>$0.00</th>\n",
              "      <th>$10.00</th>\n",
              "      <th>$10.29</th>\n",
              "      <th>$10.99</th>\n",
              "      <th>$100</th>\n",
              "      <th>$100.00</th>\n",
              "      <th>$1099</th>\n",
              "      <th>$11.00</th>\n",
              "      <th>$11.30</th>\n",
              "      <th>$11.75</th>\n",
              "      <th>...</th>\n",
              "      <th>14.95</th>\n",
              "      <th>17.00</th>\n",
              "      <th>21.00</th>\n",
              "      <th>22.00</th>\n",
              "      <th>32.99</th>\n",
              "      <th>5.75</th>\n",
              "      <th>52.00</th>\n",
              "      <th>6.60</th>\n",
              "      <th>67.00</th>\n",
              "      <th>7.00</th>\n",
              "    </tr>\n",
              "    <tr>\n",
              "      <th>category</th>\n",
              "      <th></th>\n",
              "      <th></th>\n",
              "      <th></th>\n",
              "      <th></th>\n",
              "      <th></th>\n",
              "      <th></th>\n",
              "      <th></th>\n",
              "      <th></th>\n",
              "      <th></th>\n",
              "      <th></th>\n",
              "      <th></th>\n",
              "      <th></th>\n",
              "      <th></th>\n",
              "      <th></th>\n",
              "      <th></th>\n",
              "      <th></th>\n",
              "      <th></th>\n",
              "      <th></th>\n",
              "      <th></th>\n",
              "      <th></th>\n",
              "      <th></th>\n",
              "    </tr>\n",
              "  </thead>\n",
              "  <tbody>\n",
              "    <tr>\n",
              "      <th>Q2xvdGhpbmcgYW5kIEFjY2Vzc29yaWVz</th>\n",
              "      <td>0.0</td>\n",
              "      <td>0.0</td>\n",
              "      <td>0.0</td>\n",
              "      <td>0.0</td>\n",
              "      <td>342.0</td>\n",
              "      <td>693.0</td>\n",
              "      <td>0.0</td>\n",
              "      <td>0.0</td>\n",
              "      <td>0.0</td>\n",
              "      <td>0.0</td>\n",
              "      <td>...</td>\n",
              "      <td>0.0</td>\n",
              "      <td>0.0</td>\n",
              "      <td>0.0</td>\n",
              "      <td>0.0</td>\n",
              "      <td>0.0</td>\n",
              "      <td>0.0</td>\n",
              "      <td>334.0</td>\n",
              "      <td>0.0</td>\n",
              "      <td>0.0</td>\n",
              "      <td>0.0</td>\n",
              "    </tr>\n",
              "    <tr>\n",
              "      <th>QXJ0IHN1cHBsaWVz</th>\n",
              "      <td>0.0</td>\n",
              "      <td>331.0</td>\n",
              "      <td>0.0</td>\n",
              "      <td>0.0</td>\n",
              "      <td>0.0</td>\n",
              "      <td>0.0</td>\n",
              "      <td>0.0</td>\n",
              "      <td>0.0</td>\n",
              "      <td>0.0</td>\n",
              "      <td>0.0</td>\n",
              "      <td>...</td>\n",
              "      <td>0.0</td>\n",
              "      <td>0.0</td>\n",
              "      <td>0.0</td>\n",
              "      <td>0.0</td>\n",
              "      <td>0.0</td>\n",
              "      <td>0.0</td>\n",
              "      <td>0.0</td>\n",
              "      <td>0.0</td>\n",
              "      <td>0.0</td>\n",
              "      <td>0.0</td>\n",
              "    </tr>\n",
              "    <tr>\n",
              "      <th>QmFieWNhcmU</th>\n",
              "      <td>0.0</td>\n",
              "      <td>0.0</td>\n",
              "      <td>0.0</td>\n",
              "      <td>0.0</td>\n",
              "      <td>0.0</td>\n",
              "      <td>0.0</td>\n",
              "      <td>0.0</td>\n",
              "      <td>0.0</td>\n",
              "      <td>0.0</td>\n",
              "      <td>0.0</td>\n",
              "      <td>...</td>\n",
              "      <td>0.0</td>\n",
              "      <td>0.0</td>\n",
              "      <td>0.0</td>\n",
              "      <td>0.0</td>\n",
              "      <td>0.0</td>\n",
              "      <td>0.0</td>\n",
              "      <td>0.0</td>\n",
              "      <td>0.0</td>\n",
              "      <td>0.0</td>\n",
              "      <td>0.0</td>\n",
              "    </tr>\n",
              "    <tr>\n",
              "      <th>RWxlY3Ryb25pY3M</th>\n",
              "      <td>0.0</td>\n",
              "      <td>0.0</td>\n",
              "      <td>0.0</td>\n",
              "      <td>0.0</td>\n",
              "      <td>0.0</td>\n",
              "      <td>0.0</td>\n",
              "      <td>0.0</td>\n",
              "      <td>0.0</td>\n",
              "      <td>0.0</td>\n",
              "      <td>0.0</td>\n",
              "      <td>...</td>\n",
              "      <td>0.0</td>\n",
              "      <td>0.0</td>\n",
              "      <td>0.0</td>\n",
              "      <td>0.0</td>\n",
              "      <td>0.0</td>\n",
              "      <td>0.0</td>\n",
              "      <td>0.0</td>\n",
              "      <td>0.0</td>\n",
              "      <td>0.0</td>\n",
              "      <td>0.0</td>\n",
              "    </tr>\n",
              "    <tr>\n",
              "      <th>SG91c2Vob2xkIGFuZCBDbGVhbmluZw</th>\n",
              "      <td>3175.0</td>\n",
              "      <td>0.0</td>\n",
              "      <td>0.0</td>\n",
              "      <td>335.0</td>\n",
              "      <td>0.0</td>\n",
              "      <td>0.0</td>\n",
              "      <td>348.0</td>\n",
              "      <td>366.0</td>\n",
              "      <td>0.0</td>\n",
              "      <td>0.0</td>\n",
              "      <td>...</td>\n",
              "      <td>0.0</td>\n",
              "      <td>0.0</td>\n",
              "      <td>0.0</td>\n",
              "      <td>0.0</td>\n",
              "      <td>0.0</td>\n",
              "      <td>0.0</td>\n",
              "      <td>0.0</td>\n",
              "      <td>0.0</td>\n",
              "      <td>0.0</td>\n",
              "      <td>0.0</td>\n",
              "    </tr>\n",
              "    <tr>\n",
              "      <th>SGVhbHRo</th>\n",
              "      <td>0.0</td>\n",
              "      <td>0.0</td>\n",
              "      <td>0.0</td>\n",
              "      <td>0.0</td>\n",
              "      <td>0.0</td>\n",
              "      <td>0.0</td>\n",
              "      <td>0.0</td>\n",
              "      <td>0.0</td>\n",
              "      <td>0.0</td>\n",
              "      <td>0.0</td>\n",
              "      <td>...</td>\n",
              "      <td>0.0</td>\n",
              "      <td>0.0</td>\n",
              "      <td>0.0</td>\n",
              "      <td>0.0</td>\n",
              "      <td>0.0</td>\n",
              "      <td>0.0</td>\n",
              "      <td>0.0</td>\n",
              "      <td>0.0</td>\n",
              "      <td>0.0</td>\n",
              "      <td>0.0</td>\n",
              "    </tr>\n",
              "    <tr>\n",
              "      <th>VG95cyBhbmQgR2FtZXM</th>\n",
              "      <td>0.0</td>\n",
              "      <td>0.0</td>\n",
              "      <td>0.0</td>\n",
              "      <td>0.0</td>\n",
              "      <td>0.0</td>\n",
              "      <td>0.0</td>\n",
              "      <td>0.0</td>\n",
              "      <td>0.0</td>\n",
              "      <td>0.0</td>\n",
              "      <td>0.0</td>\n",
              "      <td>...</td>\n",
              "      <td>1418.0</td>\n",
              "      <td>0.0</td>\n",
              "      <td>0.0</td>\n",
              "      <td>0.0</td>\n",
              "      <td>0.0</td>\n",
              "      <td>0.0</td>\n",
              "      <td>0.0</td>\n",
              "      <td>0.0</td>\n",
              "      <td>0.0</td>\n",
              "      <td>0.0</td>\n",
              "    </tr>\n",
              "    <tr>\n",
              "      <th>VG9vbHMgYW5kIGhvbWUgaW1wcm92ZW1lbnQ</th>\n",
              "      <td>0.0</td>\n",
              "      <td>0.0</td>\n",
              "      <td>0.0</td>\n",
              "      <td>0.0</td>\n",
              "      <td>0.0</td>\n",
              "      <td>0.0</td>\n",
              "      <td>0.0</td>\n",
              "      <td>0.0</td>\n",
              "      <td>0.0</td>\n",
              "      <td>0.0</td>\n",
              "      <td>...</td>\n",
              "      <td>0.0</td>\n",
              "      <td>0.0</td>\n",
              "      <td>0.0</td>\n",
              "      <td>0.0</td>\n",
              "      <td>0.0</td>\n",
              "      <td>0.0</td>\n",
              "      <td>0.0</td>\n",
              "      <td>0.0</td>\n",
              "      <td>0.0</td>\n",
              "      <td>0.0</td>\n",
              "    </tr>\n",
              "    <tr>\n",
              "      <th>YmVhdXR5IGFuZCBwZXJzb25hbCBjYXJl</th>\n",
              "      <td>4196.0</td>\n",
              "      <td>330.0</td>\n",
              "      <td>0.0</td>\n",
              "      <td>0.0</td>\n",
              "      <td>0.0</td>\n",
              "      <td>0.0</td>\n",
              "      <td>0.0</td>\n",
              "      <td>0.0</td>\n",
              "      <td>0.0</td>\n",
              "      <td>0.0</td>\n",
              "      <td>...</td>\n",
              "      <td>0.0</td>\n",
              "      <td>0.0</td>\n",
              "      <td>0.0</td>\n",
              "      <td>0.0</td>\n",
              "      <td>0.0</td>\n",
              "      <td>0.0</td>\n",
              "      <td>0.0</td>\n",
              "      <td>0.0</td>\n",
              "      <td>0.0</td>\n",
              "      <td>0.0</td>\n",
              "    </tr>\n",
              "    <tr>\n",
              "      <th>Z3JvY2VyaWVz</th>\n",
              "      <td>0.0</td>\n",
              "      <td>0.0</td>\n",
              "      <td>327.0</td>\n",
              "      <td>326.0</td>\n",
              "      <td>0.0</td>\n",
              "      <td>0.0</td>\n",
              "      <td>0.0</td>\n",
              "      <td>0.0</td>\n",
              "      <td>0.0</td>\n",
              "      <td>0.0</td>\n",
              "      <td>...</td>\n",
              "      <td>0.0</td>\n",
              "      <td>0.0</td>\n",
              "      <td>0.0</td>\n",
              "      <td>0.0</td>\n",
              "      <td>0.0</td>\n",
              "      <td>0.0</td>\n",
              "      <td>0.0</td>\n",
              "      <td>0.0</td>\n",
              "      <td>0.0</td>\n",
              "      <td>0.0</td>\n",
              "    </tr>\n",
              "    <tr>\n",
              "      <th>a2l0Y2hpbmcgYW5kIGRpbmluZw</th>\n",
              "      <td>0.0</td>\n",
              "      <td>0.0</td>\n",
              "      <td>0.0</td>\n",
              "      <td>630.0</td>\n",
              "      <td>0.0</td>\n",
              "      <td>0.0</td>\n",
              "      <td>0.0</td>\n",
              "      <td>0.0</td>\n",
              "      <td>354.0</td>\n",
              "      <td>0.0</td>\n",
              "      <td>...</td>\n",
              "      <td>0.0</td>\n",
              "      <td>642.0</td>\n",
              "      <td>361.0</td>\n",
              "      <td>727.0</td>\n",
              "      <td>361.0</td>\n",
              "      <td>322.0</td>\n",
              "      <td>0.0</td>\n",
              "      <td>330.0</td>\n",
              "      <td>310.0</td>\n",
              "      <td>692.0</td>\n",
              "    </tr>\n",
              "    <tr>\n",
              "      <th>b2ZmaWNlIHByb2R1Y3Rz</th>\n",
              "      <td>0.0</td>\n",
              "      <td>341.0</td>\n",
              "      <td>0.0</td>\n",
              "      <td>0.0</td>\n",
              "      <td>0.0</td>\n",
              "      <td>0.0</td>\n",
              "      <td>0.0</td>\n",
              "      <td>0.0</td>\n",
              "      <td>0.0</td>\n",
              "      <td>359.0</td>\n",
              "      <td>...</td>\n",
              "      <td>0.0</td>\n",
              "      <td>0.0</td>\n",
              "      <td>0.0</td>\n",
              "      <td>0.0</td>\n",
              "      <td>0.0</td>\n",
              "      <td>0.0</td>\n",
              "      <td>0.0</td>\n",
              "      <td>0.0</td>\n",
              "      <td>0.0</td>\n",
              "      <td>0.0</td>\n",
              "    </tr>\n",
              "    <tr>\n",
              "      <th>cGV0IHN1cHBsaWVz</th>\n",
              "      <td>1029.0</td>\n",
              "      <td>361.0</td>\n",
              "      <td>0.0</td>\n",
              "      <td>0.0</td>\n",
              "      <td>0.0</td>\n",
              "      <td>0.0</td>\n",
              "      <td>0.0</td>\n",
              "      <td>0.0</td>\n",
              "      <td>0.0</td>\n",
              "      <td>0.0</td>\n",
              "      <td>...</td>\n",
              "      <td>0.0</td>\n",
              "      <td>0.0</td>\n",
              "      <td>0.0</td>\n",
              "      <td>0.0</td>\n",
              "      <td>0.0</td>\n",
              "      <td>0.0</td>\n",
              "      <td>0.0</td>\n",
              "      <td>0.0</td>\n",
              "      <td>0.0</td>\n",
              "      <td>0.0</td>\n",
              "    </tr>\n",
              "  </tbody>\n",
              "</table>\n",
              "<p>13 rows × 248 columns</p>\n",
              "</div>\n",
              "      <button class=\"colab-df-convert\" onclick=\"convertToInteractive('df-ad9a6ea5-7ebe-4b07-a628-ce732d32b872')\"\n",
              "              title=\"Convert this dataframe to an interactive table.\"\n",
              "              style=\"display:none;\">\n",
              "        \n",
              "  <svg xmlns=\"http://www.w3.org/2000/svg\" height=\"24px\"viewBox=\"0 0 24 24\"\n",
              "       width=\"24px\">\n",
              "    <path d=\"M0 0h24v24H0V0z\" fill=\"none\"/>\n",
              "    <path d=\"M18.56 5.44l.94 2.06.94-2.06 2.06-.94-2.06-.94-.94-2.06-.94 2.06-2.06.94zm-11 1L8.5 8.5l.94-2.06 2.06-.94-2.06-.94L8.5 2.5l-.94 2.06-2.06.94zm10 10l.94 2.06.94-2.06 2.06-.94-2.06-.94-.94-2.06-.94 2.06-2.06.94z\"/><path d=\"M17.41 7.96l-1.37-1.37c-.4-.4-.92-.59-1.43-.59-.52 0-1.04.2-1.43.59L10.3 9.45l-7.72 7.72c-.78.78-.78 2.05 0 2.83L4 21.41c.39.39.9.59 1.41.59.51 0 1.02-.2 1.41-.59l7.78-7.78 2.81-2.81c.8-.78.8-2.07 0-2.86zM5.41 20L4 18.59l7.72-7.72 1.47 1.35L5.41 20z\"/>\n",
              "  </svg>\n",
              "      </button>\n",
              "      \n",
              "  <style>\n",
              "    .colab-df-container {\n",
              "      display:flex;\n",
              "      flex-wrap:wrap;\n",
              "      gap: 12px;\n",
              "    }\n",
              "\n",
              "    .colab-df-convert {\n",
              "      background-color: #E8F0FE;\n",
              "      border: none;\n",
              "      border-radius: 50%;\n",
              "      cursor: pointer;\n",
              "      display: none;\n",
              "      fill: #1967D2;\n",
              "      height: 32px;\n",
              "      padding: 0 0 0 0;\n",
              "      width: 32px;\n",
              "    }\n",
              "\n",
              "    .colab-df-convert:hover {\n",
              "      background-color: #E2EBFA;\n",
              "      box-shadow: 0px 1px 2px rgba(60, 64, 67, 0.3), 0px 1px 3px 1px rgba(60, 64, 67, 0.15);\n",
              "      fill: #174EA6;\n",
              "    }\n",
              "\n",
              "    [theme=dark] .colab-df-convert {\n",
              "      background-color: #3B4455;\n",
              "      fill: #D2E3FC;\n",
              "    }\n",
              "\n",
              "    [theme=dark] .colab-df-convert:hover {\n",
              "      background-color: #434B5C;\n",
              "      box-shadow: 0px 1px 3px 1px rgba(0, 0, 0, 0.15);\n",
              "      filter: drop-shadow(0px 1px 2px rgba(0, 0, 0, 0.3));\n",
              "      fill: #FFFFFF;\n",
              "    }\n",
              "  </style>\n",
              "\n",
              "      <script>\n",
              "        const buttonEl =\n",
              "          document.querySelector('#df-ad9a6ea5-7ebe-4b07-a628-ce732d32b872 button.colab-df-convert');\n",
              "        buttonEl.style.display =\n",
              "          google.colab.kernel.accessAllowed ? 'block' : 'none';\n",
              "\n",
              "        async function convertToInteractive(key) {\n",
              "          const element = document.querySelector('#df-ad9a6ea5-7ebe-4b07-a628-ce732d32b872');\n",
              "          const dataTable =\n",
              "            await google.colab.kernel.invokeFunction('convertToInteractive',\n",
              "                                                     [key], {});\n",
              "          if (!dataTable) return;\n",
              "\n",
              "          const docLinkHtml = 'Like what you see? Visit the ' +\n",
              "            '<a target=\"_blank\" href=https://colab.research.google.com/notebooks/data_table.ipynb>data table notebook</a>'\n",
              "            + ' to learn more about interactive tables.';\n",
              "          element.innerHTML = '';\n",
              "          dataTable['output_type'] = 'display_data';\n",
              "          await google.colab.output.renderOutput(dataTable, element);\n",
              "          const docLink = document.createElement('div');\n",
              "          docLink.innerHTML = docLinkHtml;\n",
              "          element.appendChild(docLink);\n",
              "        }\n",
              "      </script>\n",
              "    </div>\n",
              "  </div>\n",
              "  "
            ]
          },
          "metadata": {},
          "execution_count": 26
        }
      ]
    },
    {
      "cell_type": "markdown",
      "source": [
        "2.4 **Observation Q2**\n",
        "\n",
        "- For example, the category **\"SG91c2Vob2xkIGFuZCBDbGVhbmluZw\"** has **3175** products with price **\\$0** and **335** products with price **$10.99**"
      ],
      "metadata": {
        "id": "U8iK_d2w9NZB"
      }
    },
    {
      "cell_type": "markdown",
      "source": [
        "3. **Q3. Correct Product Prices in the correct format (eg: $56) wherever possible and separate them into currency and value columns.**\n",
        "\n",
        "- We use Regular Expressions to extract the numbers and currency from the 'price_string' column\n",
        "\n",
        "- We add additional columns 'final_price' and 'currency' to add the extracted elements\n",
        "\n",
        "\n"
      ],
      "metadata": {
        "id": "VGeMwUXBKJ-Q"
      }
    },
    {
      "cell_type": "code",
      "source": [
        "#understanding the pattern of 'price_string'\n",
        "df['price_string'].unique()"
      ],
      "metadata": {
        "colab": {
          "base_uri": "https://localhost:8080/"
        },
        "id": "086ET26qK1QI",
        "outputId": "38cd628b-30fb-4103-c953-0189c60e8e65"
      },
      "execution_count": 18,
      "outputs": [
        {
          "output_type": "execute_result",
          "data": {
            "text/plain": [
              "array([nan, '$19.95', '$92.00', '11.50', '$24.99', '$148.00', '$89',\n",
              "       '$14.95', '$55.00', '32.99', '52.00', '$11.30', '$13.99', '$6.95',\n",
              "       '$0.00', '$129', '$10.99', '$6.49', '$18.99', '$179', '$9.99',\n",
              "       '$3.99', '$549', '$16.99', '$49.99', '$90.00', '$12.99', '$59',\n",
              "       '$85.00', '$128.00', '$150', '$6.99', '$34.00', '$248.00', '$4.99',\n",
              "       '$65', '11.00', '$459', '$199', '14.95', '$135.05', '$1099',\n",
              "       '$7.97', '$6.75', '$15.00', '$5.29', '$10.00', '7.00', '$80.00',\n",
              "       '$2.29', '$119', '6.60', '$399', '$39.95', '12.00', '$8.99', '$79',\n",
              "       '$35', '$34.95', '$99', '$18.95', '$459.99', '$58.00', '$25.70',\n",
              "       '$3.50', '$619.00', '$95', '$159', '$45', '$149', '$85', '$8.95',\n",
              "       '$69', '$14.00', '$38.00', '$6.50', '$12.50', '$24.00', '$27.00',\n",
              "       '$82.75', '$9.95', '$26.96', '$17.96', '$15.99', '$6.17', '$75',\n",
              "       '$250', '$29.00', '$1198', '$18.00', '$45.00', '$44.00', '$14.99',\n",
              "       '$249', '$86.00', '$160', '$14.37', '$7.99', '$178', '$50.00',\n",
              "       '$58', '$279', '$75.00', '$13.29', '$26.00', '$5.00', '$19.99',\n",
              "       '$6.00', '$28.00', '$32.99', '$48.00', '$178.00', '22.00', '17.00',\n",
              "       '$18.49', '$130', '$99.00', '$36.00', '$79.00', '$70.00', '$4.49',\n",
              "       '$4.00', '$16.00', '$200', '$379', '$118.00', '$11.99', '$29.99',\n",
              "       '$20.00', '$7.00', '$149.99', '$339', '$25.00', '67.00', '$22.95',\n",
              "       '$18', '$7.49', '$6.25', '$69.99', '$5.99', '$26.95', '$299',\n",
              "       '$145.00', '$49', '$17', '$8.00', '$30.00', '$23.00', '$59.99',\n",
              "       '$4.50', '$22', '$198.00', '$53.99', '$34.99', '$47.95', '$229',\n",
              "       '$22.00', '$42.00', '$2.49', '$3.49', '$139', '$120.00', '$20.95',\n",
              "       '$26', '$55', '$189.97', '$150.00', '$3.79', '$40.00', '$30',\n",
              "       '$359', '$20.99', '$5.45', '$85.99', '$19.56', '$11.00', '$155.85',\n",
              "       '$72.00', '$158.00', '$65.00', '$31.00', '$50', '$73.00',\n",
              "       '$279.97', '$499', '$41.99', '$4.79', '13.00', '$29.97', '$195',\n",
              "       '$260', '$2.50', '$130.00', '$49.00', '$76.00', '$125', '$44.99',\n",
              "       '$175.00', '$7.71', '$2.75', '$61.69', '$11.75', '$389', '$80',\n",
              "       '$129.00', '$138.00', '$9.40', '$228.00', '$14.49', '$99.99',\n",
              "       '$27.99', '$60.00', '$17.99', '$9.75', '$449', '$24.95', '$12.95',\n",
              "       '21.00', '$68', '$100', '$52', '$495', '108.00', '$115.20',\n",
              "       '$100.00', '$39.99', '$98.00', '$59.95', '$24', '$23.99', '$95.00',\n",
              "       '$6.39', '$43.96', '$30.95', '$9.00', '$56.30', '$6.13', '$198',\n",
              "       '$209.97', '$599', '$22.46', '5.75', '$8.49', '$119.97', '$10.29',\n",
              "       '$35.96', '$119.00', '$14.50', '$268.00'], dtype=object)"
            ]
          },
          "metadata": {},
          "execution_count": 18
        }
      ]
    },
    {
      "cell_type": "code",
      "source": [
        "#initialising and extracting the required patterns to form new columns\n",
        "\n",
        "pattern1 = r'([0-9]+.[0-9]+)'\n",
        "pattern2 = r'([$])'\n",
        "\n",
        "#Extracting the currency\n",
        "df['currency'] = df['price_string'].str.extract(pattern2)\n",
        "\n",
        "#Extracting the numerical price\n",
        "df['final_price'] = df['price_string'].str.extract(pattern1)\n",
        "len(df['final_price'].unique())"
      ],
      "metadata": {
        "colab": {
          "base_uri": "https://localhost:8080/"
        },
        "id": "N1SAQL6JQy-p",
        "outputId": "5a17e69b-d543-4cb8-ac07-79fffdbf10b0"
      },
      "execution_count": null,
      "outputs": [
        {
          "output_type": "execute_result",
          "data": {
            "text/plain": [
              "220"
            ]
          },
          "metadata": {},
          "execution_count": 17
        }
      ]
    },
    {
      "cell_type": "code",
      "source": [
        "#Display the 'uuid' with prices and currencies\n",
        "df3 = df.loc[:,['uuid','currency','final_price']]\n",
        "df3.head()"
      ],
      "metadata": {
        "colab": {
          "base_uri": "https://localhost:8080/",
          "height": 204
        },
        "id": "mgH0c9t8S1YL",
        "outputId": "9cfc69cf-cdcd-43c4-d806-74d84fbf2700"
      },
      "execution_count": null,
      "outputs": [
        {
          "output_type": "execute_result",
          "data": {
            "text/plain": [
              "                                   uuid currency final_price\n",
              "0  638744a4-b0ae-4166-8cb6-5c063c862036      NaN         NaN\n",
              "1  ab313969-02cc-48b2-9daf-0054efb70b92      NaN         NaN\n",
              "2  acbd66ff-79f8-467a-91f9-108a45af5626        $       19.95\n",
              "3  963915d6-b2e3-4098-b242-9410593cf205        $       92.00\n",
              "4  b5b68f3c-b1e0-40e5-8ee5-e2f7236c1daf      NaN       11.50"
            ],
            "text/html": [
              "\n",
              "  <div id=\"df-bf596605-9525-45d3-be0f-d7497d2dbf5b\">\n",
              "    <div class=\"colab-df-container\">\n",
              "      <div>\n",
              "<style scoped>\n",
              "    .dataframe tbody tr th:only-of-type {\n",
              "        vertical-align: middle;\n",
              "    }\n",
              "\n",
              "    .dataframe tbody tr th {\n",
              "        vertical-align: top;\n",
              "    }\n",
              "\n",
              "    .dataframe thead th {\n",
              "        text-align: right;\n",
              "    }\n",
              "</style>\n",
              "<table border=\"1\" class=\"dataframe\">\n",
              "  <thead>\n",
              "    <tr style=\"text-align: right;\">\n",
              "      <th></th>\n",
              "      <th>uuid</th>\n",
              "      <th>currency</th>\n",
              "      <th>final_price</th>\n",
              "    </tr>\n",
              "  </thead>\n",
              "  <tbody>\n",
              "    <tr>\n",
              "      <th>0</th>\n",
              "      <td>638744a4-b0ae-4166-8cb6-5c063c862036</td>\n",
              "      <td>NaN</td>\n",
              "      <td>NaN</td>\n",
              "    </tr>\n",
              "    <tr>\n",
              "      <th>1</th>\n",
              "      <td>ab313969-02cc-48b2-9daf-0054efb70b92</td>\n",
              "      <td>NaN</td>\n",
              "      <td>NaN</td>\n",
              "    </tr>\n",
              "    <tr>\n",
              "      <th>2</th>\n",
              "      <td>acbd66ff-79f8-467a-91f9-108a45af5626</td>\n",
              "      <td>$</td>\n",
              "      <td>19.95</td>\n",
              "    </tr>\n",
              "    <tr>\n",
              "      <th>3</th>\n",
              "      <td>963915d6-b2e3-4098-b242-9410593cf205</td>\n",
              "      <td>$</td>\n",
              "      <td>92.00</td>\n",
              "    </tr>\n",
              "    <tr>\n",
              "      <th>4</th>\n",
              "      <td>b5b68f3c-b1e0-40e5-8ee5-e2f7236c1daf</td>\n",
              "      <td>NaN</td>\n",
              "      <td>11.50</td>\n",
              "    </tr>\n",
              "  </tbody>\n",
              "</table>\n",
              "</div>\n",
              "      <button class=\"colab-df-convert\" onclick=\"convertToInteractive('df-bf596605-9525-45d3-be0f-d7497d2dbf5b')\"\n",
              "              title=\"Convert this dataframe to an interactive table.\"\n",
              "              style=\"display:none;\">\n",
              "        \n",
              "  <svg xmlns=\"http://www.w3.org/2000/svg\" height=\"24px\"viewBox=\"0 0 24 24\"\n",
              "       width=\"24px\">\n",
              "    <path d=\"M0 0h24v24H0V0z\" fill=\"none\"/>\n",
              "    <path d=\"M18.56 5.44l.94 2.06.94-2.06 2.06-.94-2.06-.94-.94-2.06-.94 2.06-2.06.94zm-11 1L8.5 8.5l.94-2.06 2.06-.94-2.06-.94L8.5 2.5l-.94 2.06-2.06.94zm10 10l.94 2.06.94-2.06 2.06-.94-2.06-.94-.94-2.06-.94 2.06-2.06.94z\"/><path d=\"M17.41 7.96l-1.37-1.37c-.4-.4-.92-.59-1.43-.59-.52 0-1.04.2-1.43.59L10.3 9.45l-7.72 7.72c-.78.78-.78 2.05 0 2.83L4 21.41c.39.39.9.59 1.41.59.51 0 1.02-.2 1.41-.59l7.78-7.78 2.81-2.81c.8-.78.8-2.07 0-2.86zM5.41 20L4 18.59l7.72-7.72 1.47 1.35L5.41 20z\"/>\n",
              "  </svg>\n",
              "      </button>\n",
              "      \n",
              "  <style>\n",
              "    .colab-df-container {\n",
              "      display:flex;\n",
              "      flex-wrap:wrap;\n",
              "      gap: 12px;\n",
              "    }\n",
              "\n",
              "    .colab-df-convert {\n",
              "      background-color: #E8F0FE;\n",
              "      border: none;\n",
              "      border-radius: 50%;\n",
              "      cursor: pointer;\n",
              "      display: none;\n",
              "      fill: #1967D2;\n",
              "      height: 32px;\n",
              "      padding: 0 0 0 0;\n",
              "      width: 32px;\n",
              "    }\n",
              "\n",
              "    .colab-df-convert:hover {\n",
              "      background-color: #E2EBFA;\n",
              "      box-shadow: 0px 1px 2px rgba(60, 64, 67, 0.3), 0px 1px 3px 1px rgba(60, 64, 67, 0.15);\n",
              "      fill: #174EA6;\n",
              "    }\n",
              "\n",
              "    [theme=dark] .colab-df-convert {\n",
              "      background-color: #3B4455;\n",
              "      fill: #D2E3FC;\n",
              "    }\n",
              "\n",
              "    [theme=dark] .colab-df-convert:hover {\n",
              "      background-color: #434B5C;\n",
              "      box-shadow: 0px 1px 3px 1px rgba(0, 0, 0, 0.15);\n",
              "      filter: drop-shadow(0px 1px 2px rgba(0, 0, 0, 0.3));\n",
              "      fill: #FFFFFF;\n",
              "    }\n",
              "  </style>\n",
              "\n",
              "      <script>\n",
              "        const buttonEl =\n",
              "          document.querySelector('#df-bf596605-9525-45d3-be0f-d7497d2dbf5b button.colab-df-convert');\n",
              "        buttonEl.style.display =\n",
              "          google.colab.kernel.accessAllowed ? 'block' : 'none';\n",
              "\n",
              "        async function convertToInteractive(key) {\n",
              "          const element = document.querySelector('#df-bf596605-9525-45d3-be0f-d7497d2dbf5b');\n",
              "          const dataTable =\n",
              "            await google.colab.kernel.invokeFunction('convertToInteractive',\n",
              "                                                     [key], {});\n",
              "          if (!dataTable) return;\n",
              "\n",
              "          const docLinkHtml = 'Like what you see? Visit the ' +\n",
              "            '<a target=\"_blank\" href=https://colab.research.google.com/notebooks/data_table.ipynb>data table notebook</a>'\n",
              "            + ' to learn more about interactive tables.';\n",
              "          element.innerHTML = '';\n",
              "          dataTable['output_type'] = 'display_data';\n",
              "          await google.colab.output.renderOutput(dataTable, element);\n",
              "          const docLink = document.createElement('div');\n",
              "          docLink.innerHTML = docLinkHtml;\n",
              "          element.appendChild(docLink);\n",
              "        }\n",
              "      </script>\n",
              "    </div>\n",
              "  </div>\n",
              "  "
            ]
          },
          "metadata": {},
          "execution_count": 18
        }
      ]
    },
    {
      "cell_type": "code",
      "source": [
        "#Dropping the rows with NaN final price\n",
        "\n",
        "df3.dropna(subset = ['final_price'])"
      ],
      "metadata": {
        "colab": {
          "base_uri": "https://localhost:8080/",
          "height": 419
        },
        "id": "qusnM67vxuhL",
        "outputId": "4a882fcb-1ff0-427e-a56d-c23e7018820f"
      },
      "execution_count": null,
      "outputs": [
        {
          "output_type": "execute_result",
          "data": {
            "text/plain": [
              "                                        uuid currency final_price\n",
              "2       acbd66ff-79f8-467a-91f9-108a45af5626        $       19.95\n",
              "3       963915d6-b2e3-4098-b242-9410593cf205        $       92.00\n",
              "4       b5b68f3c-b1e0-40e5-8ee5-e2f7236c1daf      NaN       11.50\n",
              "6       9599f1a9-d406-43eb-89f5-9b1c0af1ac9a        $       24.99\n",
              "7       35799087-f6f4-4ca2-abfe-cbb5c27d2f1a        $      148.00\n",
              "...                                      ...      ...         ...\n",
              "474681  a1619515-b831-44bf-912d-54388755e39e        $       38.00\n",
              "474686  8e4fdac3-afc9-4242-9136-90d13e116724        $        6.75\n",
              "474687  74b624ff-8aa3-41b8-a806-8ade050f3831      NaN       22.00\n",
              "474690  61a43aa5-d432-4e99-ab5d-fec791de21fa        $       17.99\n",
              "474692  fcaedae7-dc20-4da1-b4ae-77368c973088        $       69.99\n",
              "\n",
              "[166681 rows x 3 columns]"
            ],
            "text/html": [
              "\n",
              "  <div id=\"df-b4b8666b-98b2-4cdc-a82d-9cd88c7671f6\">\n",
              "    <div class=\"colab-df-container\">\n",
              "      <div>\n",
              "<style scoped>\n",
              "    .dataframe tbody tr th:only-of-type {\n",
              "        vertical-align: middle;\n",
              "    }\n",
              "\n",
              "    .dataframe tbody tr th {\n",
              "        vertical-align: top;\n",
              "    }\n",
              "\n",
              "    .dataframe thead th {\n",
              "        text-align: right;\n",
              "    }\n",
              "</style>\n",
              "<table border=\"1\" class=\"dataframe\">\n",
              "  <thead>\n",
              "    <tr style=\"text-align: right;\">\n",
              "      <th></th>\n",
              "      <th>uuid</th>\n",
              "      <th>currency</th>\n",
              "      <th>final_price</th>\n",
              "    </tr>\n",
              "  </thead>\n",
              "  <tbody>\n",
              "    <tr>\n",
              "      <th>2</th>\n",
              "      <td>acbd66ff-79f8-467a-91f9-108a45af5626</td>\n",
              "      <td>$</td>\n",
              "      <td>19.95</td>\n",
              "    </tr>\n",
              "    <tr>\n",
              "      <th>3</th>\n",
              "      <td>963915d6-b2e3-4098-b242-9410593cf205</td>\n",
              "      <td>$</td>\n",
              "      <td>92.00</td>\n",
              "    </tr>\n",
              "    <tr>\n",
              "      <th>4</th>\n",
              "      <td>b5b68f3c-b1e0-40e5-8ee5-e2f7236c1daf</td>\n",
              "      <td>NaN</td>\n",
              "      <td>11.50</td>\n",
              "    </tr>\n",
              "    <tr>\n",
              "      <th>6</th>\n",
              "      <td>9599f1a9-d406-43eb-89f5-9b1c0af1ac9a</td>\n",
              "      <td>$</td>\n",
              "      <td>24.99</td>\n",
              "    </tr>\n",
              "    <tr>\n",
              "      <th>7</th>\n",
              "      <td>35799087-f6f4-4ca2-abfe-cbb5c27d2f1a</td>\n",
              "      <td>$</td>\n",
              "      <td>148.00</td>\n",
              "    </tr>\n",
              "    <tr>\n",
              "      <th>...</th>\n",
              "      <td>...</td>\n",
              "      <td>...</td>\n",
              "      <td>...</td>\n",
              "    </tr>\n",
              "    <tr>\n",
              "      <th>474681</th>\n",
              "      <td>a1619515-b831-44bf-912d-54388755e39e</td>\n",
              "      <td>$</td>\n",
              "      <td>38.00</td>\n",
              "    </tr>\n",
              "    <tr>\n",
              "      <th>474686</th>\n",
              "      <td>8e4fdac3-afc9-4242-9136-90d13e116724</td>\n",
              "      <td>$</td>\n",
              "      <td>6.75</td>\n",
              "    </tr>\n",
              "    <tr>\n",
              "      <th>474687</th>\n",
              "      <td>74b624ff-8aa3-41b8-a806-8ade050f3831</td>\n",
              "      <td>NaN</td>\n",
              "      <td>22.00</td>\n",
              "    </tr>\n",
              "    <tr>\n",
              "      <th>474690</th>\n",
              "      <td>61a43aa5-d432-4e99-ab5d-fec791de21fa</td>\n",
              "      <td>$</td>\n",
              "      <td>17.99</td>\n",
              "    </tr>\n",
              "    <tr>\n",
              "      <th>474692</th>\n",
              "      <td>fcaedae7-dc20-4da1-b4ae-77368c973088</td>\n",
              "      <td>$</td>\n",
              "      <td>69.99</td>\n",
              "    </tr>\n",
              "  </tbody>\n",
              "</table>\n",
              "<p>166681 rows × 3 columns</p>\n",
              "</div>\n",
              "      <button class=\"colab-df-convert\" onclick=\"convertToInteractive('df-b4b8666b-98b2-4cdc-a82d-9cd88c7671f6')\"\n",
              "              title=\"Convert this dataframe to an interactive table.\"\n",
              "              style=\"display:none;\">\n",
              "        \n",
              "  <svg xmlns=\"http://www.w3.org/2000/svg\" height=\"24px\"viewBox=\"0 0 24 24\"\n",
              "       width=\"24px\">\n",
              "    <path d=\"M0 0h24v24H0V0z\" fill=\"none\"/>\n",
              "    <path d=\"M18.56 5.44l.94 2.06.94-2.06 2.06-.94-2.06-.94-.94-2.06-.94 2.06-2.06.94zm-11 1L8.5 8.5l.94-2.06 2.06-.94-2.06-.94L8.5 2.5l-.94 2.06-2.06.94zm10 10l.94 2.06.94-2.06 2.06-.94-2.06-.94-.94-2.06-.94 2.06-2.06.94z\"/><path d=\"M17.41 7.96l-1.37-1.37c-.4-.4-.92-.59-1.43-.59-.52 0-1.04.2-1.43.59L10.3 9.45l-7.72 7.72c-.78.78-.78 2.05 0 2.83L4 21.41c.39.39.9.59 1.41.59.51 0 1.02-.2 1.41-.59l7.78-7.78 2.81-2.81c.8-.78.8-2.07 0-2.86zM5.41 20L4 18.59l7.72-7.72 1.47 1.35L5.41 20z\"/>\n",
              "  </svg>\n",
              "      </button>\n",
              "      \n",
              "  <style>\n",
              "    .colab-df-container {\n",
              "      display:flex;\n",
              "      flex-wrap:wrap;\n",
              "      gap: 12px;\n",
              "    }\n",
              "\n",
              "    .colab-df-convert {\n",
              "      background-color: #E8F0FE;\n",
              "      border: none;\n",
              "      border-radius: 50%;\n",
              "      cursor: pointer;\n",
              "      display: none;\n",
              "      fill: #1967D2;\n",
              "      height: 32px;\n",
              "      padding: 0 0 0 0;\n",
              "      width: 32px;\n",
              "    }\n",
              "\n",
              "    .colab-df-convert:hover {\n",
              "      background-color: #E2EBFA;\n",
              "      box-shadow: 0px 1px 2px rgba(60, 64, 67, 0.3), 0px 1px 3px 1px rgba(60, 64, 67, 0.15);\n",
              "      fill: #174EA6;\n",
              "    }\n",
              "\n",
              "    [theme=dark] .colab-df-convert {\n",
              "      background-color: #3B4455;\n",
              "      fill: #D2E3FC;\n",
              "    }\n",
              "\n",
              "    [theme=dark] .colab-df-convert:hover {\n",
              "      background-color: #434B5C;\n",
              "      box-shadow: 0px 1px 3px 1px rgba(0, 0, 0, 0.15);\n",
              "      filter: drop-shadow(0px 1px 2px rgba(0, 0, 0, 0.3));\n",
              "      fill: #FFFFFF;\n",
              "    }\n",
              "  </style>\n",
              "\n",
              "      <script>\n",
              "        const buttonEl =\n",
              "          document.querySelector('#df-b4b8666b-98b2-4cdc-a82d-9cd88c7671f6 button.colab-df-convert');\n",
              "        buttonEl.style.display =\n",
              "          google.colab.kernel.accessAllowed ? 'block' : 'none';\n",
              "\n",
              "        async function convertToInteractive(key) {\n",
              "          const element = document.querySelector('#df-b4b8666b-98b2-4cdc-a82d-9cd88c7671f6');\n",
              "          const dataTable =\n",
              "            await google.colab.kernel.invokeFunction('convertToInteractive',\n",
              "                                                     [key], {});\n",
              "          if (!dataTable) return;\n",
              "\n",
              "          const docLinkHtml = 'Like what you see? Visit the ' +\n",
              "            '<a target=\"_blank\" href=https://colab.research.google.com/notebooks/data_table.ipynb>data table notebook</a>'\n",
              "            + ' to learn more about interactive tables.';\n",
              "          element.innerHTML = '';\n",
              "          dataTable['output_type'] = 'display_data';\n",
              "          await google.colab.output.renderOutput(dataTable, element);\n",
              "          const docLink = document.createElement('div');\n",
              "          docLink.innerHTML = docLinkHtml;\n",
              "          element.appendChild(docLink);\n",
              "        }\n",
              "      </script>\n",
              "    </div>\n",
              "  </div>\n",
              "  "
            ]
          },
          "metadata": {},
          "execution_count": 19
        }
      ]
    },
    {
      "cell_type": "markdown",
      "source": [
        "3.1 **Observation Question 3**\n",
        "- The string was in the format \\$ [float number]. We use regular expression the extract the required values, i.e the numbers (final_price) and $ (currencies).\n",
        "- The dataframe df3 ignores all the NaN values in the 'final_price' column and displays the priced products 'uuid', 'currency' and 'final_price'\n",
        "- There are a few entries in 'currency' column with NaN values, which can be assumed as '\\$', as maximum of the entries in the given dataset is in '\\$'"
      ],
      "metadata": {
        "id": "hhyB-WWcWExM"
      }
    },
    {
      "cell_type": "markdown",
      "source": [
        "4. **Q4. List out the categories with average price of product.**\n",
        "- The 'final_price' column contains numerical values in string format. They need to be converted to floating points\n",
        "- The average price can be calculated by grouping the dataframe w.r.t 'category' and then finding the mean."
      ],
      "metadata": {
        "id": "SwGbuzWdYThh"
      }
    },
    {
      "cell_type": "code",
      "source": [
        "df['final_price'] = df['final_price'].astype('float')"
      ],
      "metadata": {
        "id": "GHa5A1XAVN8G"
      },
      "execution_count": null,
      "outputs": []
    },
    {
      "cell_type": "code",
      "source": [
        "avg_price = df.groupby('category')['final_price'].agg(np.mean)\n",
        "avg_price"
      ],
      "metadata": {
        "colab": {
          "base_uri": "https://localhost:8080/"
        },
        "id": "UNcl5qcP2J-R",
        "outputId": "be826aca-71ee-4ec2-d8b9-ecd2015a6b47"
      },
      "execution_count": null,
      "outputs": [
        {
          "output_type": "execute_result",
          "data": {
            "text/plain": [
              "category\n",
              "Q2xvdGhpbmcgYW5kIEFjY2Vzc29yaWVz       157.243994\n",
              "QXJ0IHN1cHBsaWVz                        19.042907\n",
              "QmFieWNhcmU                            160.559798\n",
              "RWxlY3Ryb25pY3M                         63.468416\n",
              "SG91c2Vob2xkIGFuZCBDbGVhbmluZw          77.629610\n",
              "SGVhbHRo                                32.512631\n",
              "VG95cyBhbmQgR2FtZXM                     32.100077\n",
              "VG9vbHMgYW5kIGhvbWUgaW1wcm92ZW1lbnQ     84.800852\n",
              "YmVhdXR5IGFuZCBwZXJzb25hbCBjYXJl        34.949780\n",
              "Z3JvY2VyaWVz                            10.482517\n",
              "a2l0Y2hpbmcgYW5kIGRpbmluZw              16.580869\n",
              "b2ZmaWNlIHByb2R1Y3Rz                    20.450415\n",
              "cGV0IHN1cHBsaWVz                        13.976608\n",
              "Name: final_price, dtype: float64"
            ]
          },
          "metadata": {},
          "execution_count": 28
        }
      ]
    },
    {
      "cell_type": "code",
      "source": [
        "#Plotting the Avgerage Price per category\n",
        "avg_price.plot(kind='bar', title='Average Price per category', grid=True)"
      ],
      "metadata": {
        "colab": {
          "base_uri": "https://localhost:8080/",
          "height": 543
        },
        "id": "tgOZ7_qooS6x",
        "outputId": "fbb4e7d0-5217-43af-9298-06ce9b1072db"
      },
      "execution_count": null,
      "outputs": [
        {
          "output_type": "execute_result",
          "data": {
            "text/plain": [
              "<matplotlib.axes._subplots.AxesSubplot at 0x7f88e43cc450>"
            ]
          },
          "metadata": {},
          "execution_count": 66
        },
        {
          "output_type": "display_data",
          "data": {
            "text/plain": [
              "<Figure size 432x288 with 1 Axes>"
            ],
            "image/png": "[encoded data removed]"
          },
          "metadata": {
            "needs_background": "light"
          }
        }
      ]
    },
    {
      "cell_type": "markdown",
      "source": [
        "4.1 **Observation Q4**\n",
        "- There are a total of 13 categories (exculding the NaN entries)\n",
        "- The highest average price across the categories is \\$160.56 and lowest is  \\$10.48"
      ],
      "metadata": {
        "id": "2qtSVGzOZDUU"
      }
    }
  ]
}